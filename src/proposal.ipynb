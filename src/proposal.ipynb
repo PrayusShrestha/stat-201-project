{
 "cells": [
  {
   "cell_type": "markdown",
   "id": "54494aee-0341-40c3-a316-d9c783b9cecd",
   "metadata": {},
   "source": [
    "# Impact of Internet Access on Student Performance"
   ]
  },
  {
   "cell_type": "markdown",
   "id": "heavy-secret",
   "metadata": {},
   "source": [
    "## Introduction"
   ]
  },
  {
   "cell_type": "markdown",
   "id": "6eaafbdf-4b14-477b-af04-a9f4a45f3eaf",
   "metadata": {},
   "source": [
    "One way to measure a student’s math ability is their final class grade. Different factors can influence this final grade. We propose studying how internet access at home may impact students' final grade, with our population being all students. Our question is the following: do students with internet access at home have higher mean final math grades than students without internet access at home?  \n",
    "\n",
    "There are a few reasons why we chose this topic. For one, we wanted our question to involve students as it makes this project personal and relevant, and therefore more interesting to us. This question is also relevant due to the prevalence of wifi-requiring tools used in education today. \n",
    "\n",
    "Our location parameter is the mean final grade, and our scale parameter is the standard deviation. The range of response variable is small and therefore outliers won't be overly influential on the mean and standard deviation. "
   ]
  },
  {
   "cell_type": "markdown",
   "id": "ceb1aff3-7b31-41ea-a10d-2381f081841f",
   "metadata": {},
   "source": [
    "## Description of the Data Set"
   ]
  },
  {
   "cell_type": "markdown",
   "id": "115bfad7-69a1-4b27-9013-67a1ec5d8299",
   "metadata": {},
   "source": [
    "The sample we use is from the The Student Performance Data Set, created by two researchers, Paulo Cortez and Alice Silva, in 2008. They obtained the performance of secondary students from 2 Portuguese schools in math by collecting school reports and questionnaires to create a data set that consists of 33 columns with 395 rows that correspond to the number of students that participated in the study.  \n",
    "\n",
    "Previous studies have shown that the internet has led to an increase in grades if used optimally (Austin & Totaro, 2011) and that the majority of teachers are now using the internet as a teaching and learning tool (Sampath & Manjunath, 2013). Therefore, we are interested in analyzing the impact of internet access at home to students' final grade. \n",
    "\n",
    "We will be using the internet column as our explanatory variable and the G3 attribute as our response variable. The internet column is a binary variable that describes whether or not the student has internet access at home. The G3 column is a quantitative variable that describes the final year Mathematics grade of the student (from 0-20)."
   ]
  },
  {
   "cell_type": "markdown",
   "id": "compact-bunch",
   "metadata": {},
   "source": [
    "## Preliminary Analysis"
   ]
  },
  {
   "cell_type": "code",
   "execution_count": 1,
   "id": "normal-kernel",
   "metadata": {},
   "outputs": [
    {
     "name": "stderr",
     "output_type": "stream",
     "text": [
      "── \u001b[1mAttaching packages\u001b[22m ─────────────────────────────────────── tidyverse 1.3.0 ──\n",
      "\n",
      "\u001b[32m✔\u001b[39m \u001b[34mggplot2\u001b[39m 3.3.3     \u001b[32m✔\u001b[39m \u001b[34mpurrr  \u001b[39m 0.3.4\n",
      "\u001b[32m✔\u001b[39m \u001b[34mtibble \u001b[39m 3.0.6     \u001b[32m✔\u001b[39m \u001b[34mdplyr  \u001b[39m 1.0.4\n",
      "\u001b[32m✔\u001b[39m \u001b[34mtidyr  \u001b[39m 1.1.2     \u001b[32m✔\u001b[39m \u001b[34mstringr\u001b[39m 1.4.0\n",
      "\u001b[32m✔\u001b[39m \u001b[34mreadr  \u001b[39m 1.4.0     \u001b[32m✔\u001b[39m \u001b[34mforcats\u001b[39m 0.5.1\n",
      "\n",
      "── \u001b[1mConflicts\u001b[22m ────────────────────────────────────────── tidyverse_conflicts() ──\n",
      "\u001b[31m✖\u001b[39m \u001b[34mdplyr\u001b[39m::\u001b[32mfilter()\u001b[39m masks \u001b[34mstats\u001b[39m::filter()\n",
      "\u001b[31m✖\u001b[39m \u001b[34mdplyr\u001b[39m::\u001b[32mlag()\u001b[39m    masks \u001b[34mstats\u001b[39m::lag()\n",
      "\n"
     ]
    }
   ],
   "source": [
    "# Loading needed libraries\n",
    "library(tidyverse)\n",
    "library(cowplot)"
   ]
  },
  {
   "cell_type": "code",
   "execution_count": 2,
   "id": "elect-upgrade",
   "metadata": {},
   "outputs": [
    {
     "name": "stderr",
     "output_type": "stream",
     "text": [
      "\n",
      "\u001b[36m──\u001b[39m \u001b[1m\u001b[1mColumn specification\u001b[1m\u001b[22m \u001b[36m────────────────────────────────────────────────────────\u001b[39m\n",
      "cols(\n",
      "  .default = col_character(),\n",
      "  age = \u001b[32mcol_double()\u001b[39m,\n",
      "  Medu = \u001b[32mcol_double()\u001b[39m,\n",
      "  Fedu = \u001b[32mcol_double()\u001b[39m,\n",
      "  traveltime = \u001b[32mcol_double()\u001b[39m,\n",
      "  studytime = \u001b[32mcol_double()\u001b[39m,\n",
      "  failures = \u001b[32mcol_double()\u001b[39m,\n",
      "  famrel = \u001b[32mcol_double()\u001b[39m,\n",
      "  freetime = \u001b[32mcol_double()\u001b[39m,\n",
      "  goout = \u001b[32mcol_double()\u001b[39m,\n",
      "  Dalc = \u001b[32mcol_double()\u001b[39m,\n",
      "  Walc = \u001b[32mcol_double()\u001b[39m,\n",
      "  health = \u001b[32mcol_double()\u001b[39m,\n",
      "  absences = \u001b[32mcol_double()\u001b[39m,\n",
      "  G1 = \u001b[32mcol_double()\u001b[39m,\n",
      "  G2 = \u001b[32mcol_double()\u001b[39m,\n",
      "  G3 = \u001b[32mcol_double()\u001b[39m\n",
      ")\n",
      "\u001b[36mℹ\u001b[39m Use \u001b[30m\u001b[47m\u001b[30m\u001b[47m`spec()`\u001b[47m\u001b[30m\u001b[49m\u001b[39m for the full column specifications.\n",
      "\n",
      "\n"
     ]
    },
    {
     "data": {
      "text/html": [
       "<table class=\"dataframe\">\n",
       "<caption>A tibble: 6 × 33</caption>\n",
       "<thead>\n",
       "\t<tr><th scope=col>school</th><th scope=col>sex</th><th scope=col>age</th><th scope=col>address</th><th scope=col>famsize</th><th scope=col>Pstatus</th><th scope=col>Medu</th><th scope=col>Fedu</th><th scope=col>Mjob</th><th scope=col>Fjob</th><th scope=col>⋯</th><th scope=col>famrel</th><th scope=col>freetime</th><th scope=col>goout</th><th scope=col>Dalc</th><th scope=col>Walc</th><th scope=col>health</th><th scope=col>absences</th><th scope=col>G1</th><th scope=col>G2</th><th scope=col>G3</th></tr>\n",
       "\t<tr><th scope=col>&lt;chr&gt;</th><th scope=col>&lt;chr&gt;</th><th scope=col>&lt;dbl&gt;</th><th scope=col>&lt;chr&gt;</th><th scope=col>&lt;chr&gt;</th><th scope=col>&lt;chr&gt;</th><th scope=col>&lt;dbl&gt;</th><th scope=col>&lt;dbl&gt;</th><th scope=col>&lt;chr&gt;</th><th scope=col>&lt;chr&gt;</th><th scope=col>⋯</th><th scope=col>&lt;dbl&gt;</th><th scope=col>&lt;dbl&gt;</th><th scope=col>&lt;dbl&gt;</th><th scope=col>&lt;dbl&gt;</th><th scope=col>&lt;dbl&gt;</th><th scope=col>&lt;dbl&gt;</th><th scope=col>&lt;dbl&gt;</th><th scope=col>&lt;dbl&gt;</th><th scope=col>&lt;dbl&gt;</th><th scope=col>&lt;dbl&gt;</th></tr>\n",
       "</thead>\n",
       "<tbody>\n",
       "\t<tr><td>GP</td><td>F</td><td>18</td><td>U</td><td>GT3</td><td>A</td><td>4</td><td>4</td><td>at_home </td><td>teacher </td><td>⋯</td><td>4</td><td>3</td><td>4</td><td>1</td><td>1</td><td>3</td><td> 6</td><td> 5</td><td> 6</td><td> 6</td></tr>\n",
       "\t<tr><td>GP</td><td>F</td><td>17</td><td>U</td><td>GT3</td><td>T</td><td>1</td><td>1</td><td>at_home </td><td>other   </td><td>⋯</td><td>5</td><td>3</td><td>3</td><td>1</td><td>1</td><td>3</td><td> 4</td><td> 5</td><td> 5</td><td> 6</td></tr>\n",
       "\t<tr><td>GP</td><td>F</td><td>15</td><td>U</td><td>LE3</td><td>T</td><td>1</td><td>1</td><td>at_home </td><td>other   </td><td>⋯</td><td>4</td><td>3</td><td>2</td><td>2</td><td>3</td><td>3</td><td>10</td><td> 7</td><td> 8</td><td>10</td></tr>\n",
       "\t<tr><td>GP</td><td>F</td><td>15</td><td>U</td><td>GT3</td><td>T</td><td>4</td><td>2</td><td>health  </td><td>services</td><td>⋯</td><td>3</td><td>2</td><td>2</td><td>1</td><td>1</td><td>5</td><td> 2</td><td>15</td><td>14</td><td>15</td></tr>\n",
       "\t<tr><td>GP</td><td>F</td><td>16</td><td>U</td><td>GT3</td><td>T</td><td>3</td><td>3</td><td>other   </td><td>other   </td><td>⋯</td><td>4</td><td>3</td><td>2</td><td>1</td><td>2</td><td>5</td><td> 4</td><td> 6</td><td>10</td><td>10</td></tr>\n",
       "\t<tr><td>GP</td><td>M</td><td>16</td><td>U</td><td>LE3</td><td>T</td><td>4</td><td>3</td><td>services</td><td>other   </td><td>⋯</td><td>5</td><td>4</td><td>2</td><td>1</td><td>2</td><td>5</td><td>10</td><td>15</td><td>15</td><td>15</td></tr>\n",
       "</tbody>\n",
       "</table>\n"
      ],
      "text/latex": [
       "A tibble: 6 × 33\n",
       "\\begin{tabular}{lllllllllllllllllllll}\n",
       " school & sex & age & address & famsize & Pstatus & Medu & Fedu & Mjob & Fjob & ⋯ & famrel & freetime & goout & Dalc & Walc & health & absences & G1 & G2 & G3\\\\\n",
       " <chr> & <chr> & <dbl> & <chr> & <chr> & <chr> & <dbl> & <dbl> & <chr> & <chr> & ⋯ & <dbl> & <dbl> & <dbl> & <dbl> & <dbl> & <dbl> & <dbl> & <dbl> & <dbl> & <dbl>\\\\\n",
       "\\hline\n",
       "\t GP & F & 18 & U & GT3 & A & 4 & 4 & at\\_home  & teacher  & ⋯ & 4 & 3 & 4 & 1 & 1 & 3 &  6 &  5 &  6 &  6\\\\\n",
       "\t GP & F & 17 & U & GT3 & T & 1 & 1 & at\\_home  & other    & ⋯ & 5 & 3 & 3 & 1 & 1 & 3 &  4 &  5 &  5 &  6\\\\\n",
       "\t GP & F & 15 & U & LE3 & T & 1 & 1 & at\\_home  & other    & ⋯ & 4 & 3 & 2 & 2 & 3 & 3 & 10 &  7 &  8 & 10\\\\\n",
       "\t GP & F & 15 & U & GT3 & T & 4 & 2 & health   & services & ⋯ & 3 & 2 & 2 & 1 & 1 & 5 &  2 & 15 & 14 & 15\\\\\n",
       "\t GP & F & 16 & U & GT3 & T & 3 & 3 & other    & other    & ⋯ & 4 & 3 & 2 & 1 & 2 & 5 &  4 &  6 & 10 & 10\\\\\n",
       "\t GP & M & 16 & U & LE3 & T & 4 & 3 & services & other    & ⋯ & 5 & 4 & 2 & 1 & 2 & 5 & 10 & 15 & 15 & 15\\\\\n",
       "\\end{tabular}\n"
      ],
      "text/markdown": [
       "\n",
       "A tibble: 6 × 33\n",
       "\n",
       "| school &lt;chr&gt; | sex &lt;chr&gt; | age &lt;dbl&gt; | address &lt;chr&gt; | famsize &lt;chr&gt; | Pstatus &lt;chr&gt; | Medu &lt;dbl&gt; | Fedu &lt;dbl&gt; | Mjob &lt;chr&gt; | Fjob &lt;chr&gt; | ⋯ ⋯ | famrel &lt;dbl&gt; | freetime &lt;dbl&gt; | goout &lt;dbl&gt; | Dalc &lt;dbl&gt; | Walc &lt;dbl&gt; | health &lt;dbl&gt; | absences &lt;dbl&gt; | G1 &lt;dbl&gt; | G2 &lt;dbl&gt; | G3 &lt;dbl&gt; |\n",
       "|---|---|---|---|---|---|---|---|---|---|---|---|---|---|---|---|---|---|---|---|---|\n",
       "| GP | F | 18 | U | GT3 | A | 4 | 4 | at_home  | teacher  | ⋯ | 4 | 3 | 4 | 1 | 1 | 3 |  6 |  5 |  6 |  6 |\n",
       "| GP | F | 17 | U | GT3 | T | 1 | 1 | at_home  | other    | ⋯ | 5 | 3 | 3 | 1 | 1 | 3 |  4 |  5 |  5 |  6 |\n",
       "| GP | F | 15 | U | LE3 | T | 1 | 1 | at_home  | other    | ⋯ | 4 | 3 | 2 | 2 | 3 | 3 | 10 |  7 |  8 | 10 |\n",
       "| GP | F | 15 | U | GT3 | T | 4 | 2 | health   | services | ⋯ | 3 | 2 | 2 | 1 | 1 | 5 |  2 | 15 | 14 | 15 |\n",
       "| GP | F | 16 | U | GT3 | T | 3 | 3 | other    | other    | ⋯ | 4 | 3 | 2 | 1 | 2 | 5 |  4 |  6 | 10 | 10 |\n",
       "| GP | M | 16 | U | LE3 | T | 4 | 3 | services | other    | ⋯ | 5 | 4 | 2 | 1 | 2 | 5 | 10 | 15 | 15 | 15 |\n",
       "\n"
      ],
      "text/plain": [
       "  school sex age address famsize Pstatus Medu Fedu Mjob     Fjob     ⋯ famrel\n",
       "1 GP     F   18  U       GT3     A       4    4    at_home  teacher  ⋯ 4     \n",
       "2 GP     F   17  U       GT3     T       1    1    at_home  other    ⋯ 5     \n",
       "3 GP     F   15  U       LE3     T       1    1    at_home  other    ⋯ 4     \n",
       "4 GP     F   15  U       GT3     T       4    2    health   services ⋯ 3     \n",
       "5 GP     F   16  U       GT3     T       3    3    other    other    ⋯ 4     \n",
       "6 GP     M   16  U       LE3     T       4    3    services other    ⋯ 5     \n",
       "  freetime goout Dalc Walc health absences G1 G2 G3\n",
       "1 3        4     1    1    3       6        5  6  6\n",
       "2 3        3     1    1    3       4        5  5  6\n",
       "3 3        2     2    3    3      10        7  8 10\n",
       "4 2        2     1    1    5       2       15 14 15\n",
       "5 3        2     1    2    5       4        6 10 10\n",
       "6 4        2     1    2    5      10       15 15 15"
      ]
     },
     "metadata": {},
     "output_type": "display_data"
    }
   ],
   "source": [
    "# Reading the data from our GitHub repository \n",
    "url <- \"https://raw.githubusercontent.com/PrayusShrestha/stat-201-project/main/data/student-mat.csv\"\n",
    "raw_data <- read_delim(url, delim = \";\")\n",
    "head(raw_data)"
   ]
  },
  {
   "cell_type": "markdown",
   "id": "active-concrete",
   "metadata": {},
   "source": [
    "From the tibble above, we see that the raw data we read is already in a tidy format. Each row is an observation, each column is a variable, and each cell is a value (Data Science: A First Introduction). Over the next few code cells, we will be renaming columns to be more readable (`G3` becomes `final_grade`), selecting the relevant columns (`internet` and `final_grade`) and checking if null values exist (and dealing with them if they do exist). We will then check the count of students with and without internet access. Finally, we will calculate summary statistics. "
   ]
  },
  {
   "cell_type": "code",
   "execution_count": 3,
   "id": "brazilian-sydney",
   "metadata": {},
   "outputs": [
    {
     "data": {
      "text/html": [
       "<table class=\"dataframe\">\n",
       "<caption>A tibble: 6 × 2</caption>\n",
       "<thead>\n",
       "\t<tr><th scope=col>internet</th><th scope=col>final_grade</th></tr>\n",
       "\t<tr><th scope=col>&lt;chr&gt;</th><th scope=col>&lt;dbl&gt;</th></tr>\n",
       "</thead>\n",
       "<tbody>\n",
       "\t<tr><td>no </td><td> 6</td></tr>\n",
       "\t<tr><td>yes</td><td> 6</td></tr>\n",
       "\t<tr><td>yes</td><td>10</td></tr>\n",
       "\t<tr><td>yes</td><td>15</td></tr>\n",
       "\t<tr><td>no </td><td>10</td></tr>\n",
       "\t<tr><td>yes</td><td>15</td></tr>\n",
       "</tbody>\n",
       "</table>\n"
      ],
      "text/latex": [
       "A tibble: 6 × 2\n",
       "\\begin{tabular}{ll}\n",
       " internet & final\\_grade\\\\\n",
       " <chr> & <dbl>\\\\\n",
       "\\hline\n",
       "\t no  &  6\\\\\n",
       "\t yes &  6\\\\\n",
       "\t yes & 10\\\\\n",
       "\t yes & 15\\\\\n",
       "\t no  & 10\\\\\n",
       "\t yes & 15\\\\\n",
       "\\end{tabular}\n"
      ],
      "text/markdown": [
       "\n",
       "A tibble: 6 × 2\n",
       "\n",
       "| internet &lt;chr&gt; | final_grade &lt;dbl&gt; |\n",
       "|---|---|\n",
       "| no  |  6 |\n",
       "| yes |  6 |\n",
       "| yes | 10 |\n",
       "| yes | 15 |\n",
       "| no  | 10 |\n",
       "| yes | 15 |\n",
       "\n"
      ],
      "text/plain": [
       "  internet final_grade\n",
       "1 no        6         \n",
       "2 yes       6         \n",
       "3 yes      10         \n",
       "4 yes      15         \n",
       "5 no       10         \n",
       "6 yes      15         "
      ]
     },
     "metadata": {},
     "output_type": "display_data"
    }
   ],
   "source": [
    "# Selecting for just the relevant columns and changing column name to be more human readable\n",
    "data <- raw_data  %>% \n",
    "    mutate(final_grade = G3)  %>% \n",
    "    select(internet, final_grade)\n",
    "head(data)"
   ]
  },
  {
   "cell_type": "code",
   "execution_count": 4,
   "id": "registered-horror",
   "metadata": {},
   "outputs": [
    {
     "data": {
      "text/html": [
       "0"
      ],
      "text/latex": [
       "0"
      ],
      "text/markdown": [
       "0"
      ],
      "text/plain": [
       "[1] 0"
      ]
     },
     "metadata": {},
     "output_type": "display_data"
    },
    {
     "data": {
      "text/html": [
       "0"
      ],
      "text/latex": [
       "0"
      ],
      "text/markdown": [
       "0"
      ],
      "text/plain": [
       "[1] 0"
      ]
     },
     "metadata": {},
     "output_type": "display_data"
    }
   ],
   "source": [
    "# Checking if any rows have null values \n",
    "num_of_na_internet <- sum(is.na(data$internet))\n",
    "num_of_na_final_grade <- sum(is.na(data$final_grade))\n",
    "\n",
    "num_of_na_internet\n",
    "num_of_na_final_grade"
   ]
  },
  {
   "cell_type": "markdown",
   "id": "developmental-anxiety",
   "metadata": {},
   "source": [
    "From above, it can be seen there there are no NA values."
   ]
  },
  {
   "cell_type": "code",
   "execution_count": 10,
   "id": "lined-token",
   "metadata": {},
   "outputs": [
    {
     "data": {
      "text/html": [
       "<table class=\"dataframe\">\n",
       "<caption>A tibble: 2 × 2</caption>\n",
       "<thead>\n",
       "\t<tr><th></th><th scope=col>internet</th><th scope=col>n</th></tr>\n",
       "\t<tr><th></th><th scope=col>&lt;chr&gt;</th><th scope=col>&lt;int&gt;</th></tr>\n",
       "</thead>\n",
       "<tbody>\n",
       "\t<tr><th scope=row>1</th><td>no </td><td> 66</td></tr>\n",
       "\t<tr><th scope=row>2</th><td>yes</td><td>329</td></tr>\n",
       "</tbody>\n",
       "</table>\n"
      ],
      "text/latex": [
       "A tibble: 2 × 2\n",
       "\\begin{tabular}{r|ll}\n",
       "  & internet & n\\\\\n",
       "  & <chr> & <int>\\\\\n",
       "\\hline\n",
       "\t1 & no  &  66\\\\\n",
       "\t2 & yes & 329\\\\\n",
       "\\end{tabular}\n"
      ],
      "text/markdown": [
       "\n",
       "A tibble: 2 × 2\n",
       "\n",
       "| <!--/--> | internet &lt;chr&gt; | n &lt;int&gt; |\n",
       "|---|---|---|\n",
       "| 1 | no  |  66 |\n",
       "| 2 | yes | 329 |\n",
       "\n"
      ],
      "text/plain": [
       "  internet n  \n",
       "1 no        66\n",
       "2 yes      329"
      ]
     },
     "metadata": {},
     "output_type": "display_data"
    }
   ],
   "source": [
    "# Counting how many of each category (access, or no access, to internet at home) are in the sample \n",
    "internet_access_tally <- data %>%\n",
    "    group_by(internet) %>%\n",
    "    tally()\n",
    "\n",
    "internet_access_tally"
   ]
  },
  {
   "cell_type": "code",
   "execution_count": 12,
   "id": "shaped-suffering",
   "metadata": {},
   "outputs": [
    {
     "data": {
      "text/html": [
       "<table class=\"dataframe\">\n",
       "<caption>A tibble: 2 × 3</caption>\n",
       "<thead>\n",
       "\t<tr><th></th><th scope=col>internet</th><th scope=col>std_dev</th><th scope=col>mean_final_grade</th></tr>\n",
       "\t<tr><th></th><th scope=col>&lt;chr&gt;</th><th scope=col>&lt;dbl&gt;</th><th scope=col>&lt;dbl&gt;</th></tr>\n",
       "</thead>\n",
       "<tbody>\n",
       "\t<tr><th scope=row>1</th><td>no </td><td>4.485797</td><td> 9.409091</td></tr>\n",
       "\t<tr><th scope=row>2</th><td>yes</td><td>4.580494</td><td>10.617021</td></tr>\n",
       "</tbody>\n",
       "</table>\n"
      ],
      "text/latex": [
       "A tibble: 2 × 3\n",
       "\\begin{tabular}{r|lll}\n",
       "  & internet & std\\_dev & mean\\_final\\_grade\\\\\n",
       "  & <chr> & <dbl> & <dbl>\\\\\n",
       "\\hline\n",
       "\t1 & no  & 4.485797 &  9.409091\\\\\n",
       "\t2 & yes & 4.580494 & 10.617021\\\\\n",
       "\\end{tabular}\n"
      ],
      "text/markdown": [
       "\n",
       "A tibble: 2 × 3\n",
       "\n",
       "| <!--/--> | internet &lt;chr&gt; | std_dev &lt;dbl&gt; | mean_final_grade &lt;dbl&gt; |\n",
       "|---|---|---|---|\n",
       "| 1 | no  | 4.485797 |  9.409091 |\n",
       "| 2 | yes | 4.580494 | 10.617021 |\n",
       "\n"
      ],
      "text/plain": [
       "  internet std_dev  mean_final_grade\n",
       "1 no       4.485797  9.409091       \n",
       "2 yes      4.580494 10.617021       "
      ]
     },
     "metadata": {},
     "output_type": "display_data"
    }
   ],
   "source": [
    "# Generating summary statistics (standard deviation and mean)\n",
    "data_summary  <- data  %>% \n",
    "    group_by(internet)  %>% \n",
    "    summarize(std_dev = sd(final_grade),\n",
    "              mean_final_grade = mean(final_grade))\n",
    "data_summary"
   ]
  },
  {
   "cell_type": "markdown",
   "id": "successful-detroit",
   "metadata": {},
   "source": [
    "The table above shows the mean and standard deviation of final math grades, split by home internet access status.\n",
    "\n",
    "We will now create three histograms and one box and whisker plot to visualize the data and show its center, spread, and shape. "
   ]
  },
  {
   "cell_type": "code",
   "execution_count": 7,
   "id": "civil-dubai",
   "metadata": {},
   "outputs": [],
   "source": [
    "# 4 plots of the relevant raw data\n",
    "\n",
    "# Plot 1: Final Grade Distribution of Students Without Internet Access\n",
    "plot_no_internet <- data  %>% \n",
    "    filter(internet == \"no\")  %>% \n",
    "    ggplot(aes(x = final_grade)) +\n",
    "    geom_histogram(binwidth = 2) + \n",
    "    geom_vline(xintercept = data_summary$mean_final_grade[1]) + \n",
    "    xlab(\"Final Grade\") + \n",
    "    ggtitle(\"Figure 1: Final Grade Distribution Students Without Internet Access\")\n",
    "\n",
    "# Plot 2: Final Grade Distribution of Students With Internet Access\n",
    "plot_have_internet <- data  %>% \n",
    "    filter(internet == \"yes\")  %>% \n",
    "    ggplot(aes(x = final_grade)) +\n",
    "    geom_histogram(binwidth = 2) +\n",
    "    geom_vline(xintercept = data_summary$mean_final_grade[2]) + \n",
    "    xlab(\"Final Grade\") + \n",
    "    ggtitle(\"Figure 2: Final Grade Distribution Students With Internet Access\")\n",
    "\n",
    "# Plot 3: Final Grade Distribution of Students With and Without Internet\n",
    "plot_both <- ggplot(data, aes(x = final_grade, fill = internet)) + \n",
    "    geom_histogram(binwidth = 2, alpha = 0.5, position = \"identity\", aes(y = ..density..)) + \n",
    "    xlab(\"Final Grade\") + \n",
    "    ggtitle(\"Figure 3: Final Grade Distribution Students With and Without Internet\")\n",
    "\n",
    "# Plot 4: Boxplot with Final Grade Distribution Students With and Without Internet\n",
    "boxplot  <- ggplot(data = data, mapping = aes(x = internet, y = final_grade)) +\n",
    "    geom_boxplot() +\n",
    "    ggtitle(\"Figure 4: Boxplot of Final Grade Distribution Students With and Without Internet\") + \n",
    "    labs(x = \"Internet Access\", y = \"Final Grade\")"
   ]
  },
  {
   "cell_type": "code",
   "execution_count": 8,
   "id": "advisory-watch",
   "metadata": {},
   "outputs": [
    {
     "data": {
      "image/png": "[encoded data removed]",
      "text/plain": [
       "plot without title"
      ]
     },
     "metadata": {
      "image/png": {
       "height": 420,
       "width": 420
      }
     },
     "output_type": "display_data"
    },
    {
     "data": {
      "image/png": "[encoded data removed]",
      "text/plain": [
       "plot without title"
      ]
     },
     "metadata": {
      "image/png": {
       "height": 420,
       "width": 420
      }
     },
     "output_type": "display_data"
    }
   ],
   "source": [
    "plot_no_internet\n",
    "plot_have_internet"
   ]
  },
  {
   "cell_type": "markdown",
   "id": "hindu-allergy",
   "metadata": {},
   "source": [
    "The 2 histograms above each show a subset of our sample distribution, with each histogram having data filtered based on whether the student did or didn't have access to the internet at home. The vertical line represents their corresponding mean. In general, we can see a rough bell curve being formed; for both plots, there seems a spike of people who got a 0. "
   ]
  },
  {
   "cell_type": "code",
   "execution_count": 9,
   "id": "plain-uncle",
   "metadata": {},
   "outputs": [
    {
     "data": {
      "image/png": "[encoded data removed]",
      "text/plain": [
       "plot without title"
      ]
     },
     "metadata": {
      "image/png": {
       "height": 420,
       "width": 420
      }
     },
     "output_type": "display_data"
    },
    {
     "data": {
      "image/png": "[encoded data removed]",
      "text/plain": [
       "plot without title"
      ]
     },
     "metadata": {
      "image/png": {
       "height": 420,
       "width": 420
      }
     },
     "output_type": "display_data"
    }
   ],
   "source": [
    "plot_both \n",
    "boxplot"
   ]
  },
  {
   "cell_type": "markdown",
   "id": "quarterly-sheffield",
   "metadata": {},
   "source": [
    "In Figure 3, we observe that the data coloured blue (representing those with home internet access) seems to be shifted to the right (ie. towards a higher final grade) when compared to the light blue of those without internet access. \n",
    "\n",
    "Figure 4 tells a similar story to the previous histogram. It has the \"yes\" column (those with home internet access) having a higher median (and first and third quantiles) compared to the \"no\" column. "
   ]
  },
  {
   "cell_type": "markdown",
   "id": "opening-summit",
   "metadata": {},
   "source": [
    "## **Methods**\n",
    "\n",
    "<p> In this analysis, we are drawing from a data set that is unbiased and representative. By explaining our work and decision-making along the way, we produce a reproducible and trustworthy report. <br>\n",
    "\n",
    "Based on Figure 3, we can hypothesize that students with internet access perform better than those without. This analysis of the data is limiting because we only have access to sample distributions and we do not have a measure of confidence or reliability for the means. To extend our analysis, we can conduct a hypothesis test and construct a confidence interval for the means of both groups of students. \n",
    "    \n",
    "#### **Hypothesis Test:**\n",
    "$m_1:$ the mean grade of students *with* internet access <br>\n",
    "$m_2:$ the mean grade of students *without* internet access\n",
    " \n",
    "##### **Null hypothesis:**\n",
    "$H_o: m_1 - m_2 = 0$\n",
    "##### **Alternative hypothesis:**\n",
    "$H_a: m_1 - m_2 > 0$\n",
    " \n",
    "<p> We expect that we will be able to reject our null hypothesis. In other words, we can show evidence that the mean grade of students without internet access is lower than the mean grade of students with internet access. \n",
    "    \n",
    "These findings could inform education decision-makers as to the best ways to support their students and improve overall scores. Specifically, governments should invest in providing students with internet access outside of school hours and at home. \n",
    "    \n",
    "Because this research looks at how technology enables education to continue at home, we might ask more questions about these environments and how they impact students. For example, we might ask if students with their own device(s) perform better than students who share devices with their family. Also, we might ask if students whose guardians have high technology and internet literacy perform better than students whose guardians do not. Like our research, these findings might inform government education spending and investments in technology for students.\n",
    "\n",
    "\n"
   ]
  },
  {
   "cell_type": "markdown",
   "id": "1b307a60-2af2-4083-bf07-627d274dbd14",
   "metadata": {},
   "source": [
    "## References"
   ]
  },
  {
   "cell_type": "markdown",
   "id": "7aee531b-be47-45be-bf63-b709c9b926f5",
   "metadata": {},
   "source": [
    "Austin, W., & Totaro, M. W. (2011). High school students academic performance and internet usage. *Journal of Economics and Economic Education Research, 12*(1), 41–54.\n"
   ]
  },
  {
   "cell_type": "markdown",
   "id": "b42e3a6f-d510-4c90-8c0f-c6b5da5e14d7",
   "metadata": {
    "tags": []
   },
   "source": [
    "Cortez, P., & Silva, A. M. G. (2008). Using Data Mining to Predict Secondary School Student Performance. *In A. Brito, & J. Teixeira (Eds.), Proceedings of 5th Annual Future Business Technology Conference, Porto*, 5-12.\n",
    "\n"
   ]
  },
  {
   "cell_type": "markdown",
   "id": "41c93751-dfe1-4090-aa6d-36bce354ae5e",
   "metadata": {},
   "source": [
    "Sampath Kumar, B. T., & Manjunath, G. (2013). Internet use and its impact on the academic performance of university teachers and researchers: A comparative study. *Emerald Journal of Higher Education, Skills and Work-Based Learning, 3*(3), 219–238."
   ]
  }
 ],
 "metadata": {
  "kernelspec": {
   "display_name": "R",
   "language": "R",
   "name": "ir"
  },
  "language_info": {
   "codemirror_mode": "r",
   "file_extension": ".r",
   "mimetype": "text/x-r-source",
   "name": "R",
   "pygments_lexer": "r",
   "version": "4.1.2"
  }
 },
 "nbformat": 4,
 "nbformat_minor": 5
}
