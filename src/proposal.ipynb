{
 "cells": [
  {
   "cell_type": "markdown",
   "id": "54494aee-0341-40c3-a316-d9c783b9cecd",
   "metadata": {},
   "source": [
    "## Introduction"
   ]
  },
  {
   "cell_type": "markdown",
   "id": "6eaafbdf-4b14-477b-af04-a9f4a45f3eaf",
   "metadata": {},
   "source": [
    "One way to measure a student’s math ability is their final class grade. Different factors can influence this final grade such as study habits, previous knowledge, and time studying. We are going to study how internet access at home may be associated with final grades.\n",
    "Our question is the following: Do students with internet access at home have higher mean final math grades than students without internet access at home? \n",
    "\n",
    "There are a few reasons why we chose this topic. For one, we want our topic to involve students as it makes this project more interesting and personal. The topic is also relevant due to the prevalence of wifi-requiring tools used in education. Another reason is that there are a decent number of students in both of our chosen categories. If there was only a couple of students in the “no internet access” category, we may be less confident in the preciseness of our results. \n",
    "\n",
    "Our location parameter is the mean and our scale parameter is the standard deviation. Since our response variable is the final grade out of 20, we can study with mean and standard deviation without being concerned about influential outliers.\n"
   ]
  },
  {
   "cell_type": "markdown",
   "id": "ceb1aff3-7b31-41ea-a10d-2381f081841f",
   "metadata": {},
   "source": [
    "## Description of the Data Set"
   ]
  },
  {
   "cell_type": "markdown",
   "id": "115bfad7-69a1-4b27-9013-67a1ec5d8299",
   "metadata": {},
   "source": [
    "The Student Performance Data Set was created by Paulo Cortez and Alice Silva, two researchers from the University of Minho, in 2008. They obtained the performance of secondary students from 2 Portuguese schools in the subjects Mathematics and Portuguese and created 2 separate data sets. For this project, we will only be using the Mathematics data set. The authors modelled the data based on the binary/five-level classification and regression tasks. It was collected by using school reports and questionnaires to create a data set that consists of 33 columns: 30 input attributes and 3 target attributes (G1, G2, G3) and 395 rows that corresponded to the number of students that participated in the study. \n",
    "\n",
    "We will be focusing on the internet column as our input attribute and the G3 attribute as our target attribute. The internet column is a categorical variable (yes/no) that describes whether or not the student has internet access at home. The G3 column is a quantitative variable that describes the final year Mathematics grade of the student (from 0-20) and is highly correlated to G1 (first-period Mathematics grade) and G2 (second-period Mathematics grade). \n"
   ]
  },
  {
   "cell_type": "code",
   "execution_count": 1,
   "id": "normal-kernel",
   "metadata": {},
   "outputs": [
    {
     "name": "stderr",
     "output_type": "stream",
     "text": [
      "Warning message in system(\"timedatectl\", intern = TRUE):\n",
      "“running command 'timedatectl' had status 1”\n",
      "── \u001b[1mAttaching packages\u001b[22m ─────────────────────────────────────── tidyverse 1.3.1 ──\n",
      "\n",
      "\u001b[32m✔\u001b[39m \u001b[34mggplot2\u001b[39m 3.3.5     \u001b[32m✔\u001b[39m \u001b[34mpurrr  \u001b[39m 0.3.4\n",
      "\u001b[32m✔\u001b[39m \u001b[34mtibble \u001b[39m 3.1.6     \u001b[32m✔\u001b[39m \u001b[34mdplyr  \u001b[39m 1.0.8\n",
      "\u001b[32m✔\u001b[39m \u001b[34mtidyr  \u001b[39m 1.2.0     \u001b[32m✔\u001b[39m \u001b[34mstringr\u001b[39m 1.4.0\n",
      "\u001b[32m✔\u001b[39m \u001b[34mreadr  \u001b[39m 2.1.1     \u001b[32m✔\u001b[39m \u001b[34mforcats\u001b[39m 0.5.1\n",
      "\n",
      "── \u001b[1mConflicts\u001b[22m ────────────────────────────────────────── tidyverse_conflicts() ──\n",
      "\u001b[31m✖\u001b[39m \u001b[34mdplyr\u001b[39m::\u001b[32mfilter()\u001b[39m masks \u001b[34mstats\u001b[39m::filter()\n",
      "\u001b[31m✖\u001b[39m \u001b[34mdplyr\u001b[39m::\u001b[32mlag()\u001b[39m    masks \u001b[34mstats\u001b[39m::lag()\n",
      "\n"
     ]
    },
    {
     "ename": "ERROR",
     "evalue": "Error in library(cowplot): there is no package called ‘cowplot’\n",
     "output_type": "error",
     "traceback": [
      "Error in library(cowplot): there is no package called ‘cowplot’\nTraceback:\n",
      "1. library(cowplot)"
     ]
    }
   ],
   "source": [
    "# Loading needed libraries\n",
    "library(tidyverse)\n",
    "library(cowplot)"
   ]
  },
  {
   "cell_type": "code",
   "execution_count": 2,
   "id": "elect-upgrade",
   "metadata": {},
   "outputs": [
    {
     "ename": "ERROR",
     "evalue": "Error in open.connection(structure(4L, class = c(\"curl\", \"connection\"), conn_id = <pointer: 0x241>), : HTTP error 404.\n",
     "output_type": "error",
     "traceback": [
      "Error in open.connection(structure(4L, class = c(\"curl\", \"connection\"), conn_id = <pointer: 0x241>), : HTTP error 404.\nTraceback:\n",
      "1. read_delim(url, delim = \";\")",
      "2. vroom::vroom(file, delim = delim, col_names = col_names, col_types = col_types, \n .     col_select = {\n .         {\n .             col_select\n .         }\n .     }, id = id, .name_repair = name_repair, skip = skip, n_max = n_max, \n .     na = na, quote = quote, comment = comment, skip_empty_rows = skip_empty_rows, \n .     trim_ws = trim_ws, escape_double = escape_double, escape_backslash = escape_backslash, \n .     locale = locale, guess_max = guess_max, progress = progress, \n .     altrep = lazy, show_col_types = show_col_types, num_threads = num_threads)",
      "3. vroom_(file, delim = delim %||% col_types$delim, col_names = col_names, \n .     col_types = col_types, id = id, skip = skip, col_select = col_select, \n .     name_repair = .name_repair, na = na, quote = quote, trim_ws = trim_ws, \n .     escape_double = escape_double, escape_backslash = escape_backslash, \n .     comment = comment, skip_empty_rows = skip_empty_rows, locale = locale, \n .     guess_max = guess_max, n_max = n_max, altrep = vroom_altrep(altrep), \n .     num_threads = num_threads, progress = progress)",
      "4. (function (con, ...) \n . UseMethod(\"open\"))(structure(4L, class = c(\"curl\", \"connection\"\n . ), conn_id = <pointer: 0x241>), \"rb\")",
      "5. open.connection(structure(4L, class = c(\"curl\", \"connection\"), conn_id = <pointer: 0x241>), \n .     \"rb\")"
     ]
    }
   ],
   "source": [
    "# Reading the data from our GitHub repository \n",
    "url <- \"https://raw.githubusercontent.com/PrayusShrestha/stat-201-project/main/data/student-mat.csv?token=GHSAT0AAAAAABN4PHVTJQ33FHYO4ZMGRYZYYRAMDQA\"\n",
    "raw_data <- read_delim(url, delim = \";\")\n",
    "head(raw_data)"
   ]
  },
  {
   "cell_type": "markdown",
   "id": "active-concrete",
   "metadata": {},
   "source": [
    "From the tibble above, it can be seen that the raw data we read is already in a tidy format. Each row is an observation, each column is a variable, and each cell is a value (Data Science: A First Introduction). "
   ]
  },
  {
   "cell_type": "code",
   "execution_count": null,
   "id": "brazilian-sydney",
   "metadata": {},
   "outputs": [],
   "source": [
    "# Selecting for just the relevant columns and changing column name to be more human readable\n",
    "data <- raw_data  %>% \n",
    "    mutate(final_grade = G3)  %>% \n",
    "    select(internet, final_grade)\n",
    "head(data)"
   ]
  },
  {
   "cell_type": "code",
   "execution_count": null,
   "id": "registered-horror",
   "metadata": {},
   "outputs": [],
   "source": [
    "# Checking if any rows have null values \n",
    "num_of_na_internet <- sum(is.na(data$internet))\n",
    "num_of_na_final_grade <- sum(is.na(data$final_grade))\n",
    "\n",
    "num_of_na_internet\n",
    "num_of_na_final_grade"
   ]
  },
  {
   "cell_type": "code",
   "execution_count": null,
   "id": "lined-token",
   "metadata": {},
   "outputs": [],
   "source": [
    "p_internet <- data %>%\n",
    "    group_by(internet) %>%\n",
    "    tally()\n",
    "\n",
    "p_internet"
   ]
  },
  {
   "cell_type": "code",
   "execution_count": null,
   "id": "shaped-suffering",
   "metadata": {},
   "outputs": [],
   "source": [
    "# Generating summary statistics (standard deviation and mean)\n",
    "data_summary  <- data  %>% \n",
    "    group_by(internet)  %>% \n",
    "    summarize(sd = sd(final_grade),\n",
    "              mean_final_grade = mean(final_grade))\n",
    "data_summary"
   ]
  },
  {
   "cell_type": "code",
   "execution_count": null,
   "id": "civil-dubai",
   "metadata": {},
   "outputs": [],
   "source": [
    "# 3 histograms of the relevant raw data\n",
    "\n",
    "# Plot 1: Final Grade Distribution of Students Without Internet Access\n",
    "plot_no_internet <- data  %>% \n",
    "    filter(internet == \"no\")  %>% \n",
    "    ggplot(aes(x = final_grade)) +\n",
    "    geom_histogram(binwidth = 2) + \n",
    "    geom_vline(xintercept = data_summary$mean_final_grade[1]) + \n",
    "    xlab(\"Final Grade\") + \n",
    "    ggtitle(\"Figure 1: Final Grade Distribution Students Without Internet Access\")\n",
    "\n",
    "# Plot 2: Final Grade Distribution of Students With Internet Access\n",
    "plot_have_internet <- data  %>% \n",
    "    filter(internet == \"yes\")  %>% \n",
    "    ggplot(aes(x = final_grade)) +\n",
    "    geom_histogram(binwidth = 2) +\n",
    "    geom_vline(xintercept = data_summary$mean_final_grade[2]) + \n",
    "    xlab(\"Final Grade\") + \n",
    "    ggtitle(\"Figure 2: Final Grade Distribution Students With Internet Access\")\n",
    "\n",
    "# Plot 3: Final Grade Distribution of Students With and Without Internet\n",
    "plot_both <- ggplot(data, aes(x = final_grade, fill = internet)) + \n",
    "    geom_histogram(binwidth = 2, alpha = 0.5, position = \"identity\", aes(y = ..density..)) + \n",
    "    xlab(\"Final Grade\") + \n",
    "    ggtitle(\"Figure 3: Final Grade Distribution Students With and Without Internet\")\n",
    "\n",
    "# Plot 4: Boxplot with Final Grade Distribution Students With and Without Internet\n",
    "boxplot  <- ggplot(data = data, mapping = aes(x = internet, y = final_grade)) +\n",
    "    geom_boxplot() +\n",
    "    ggtitle(\"Figure 4: Boxplot of Final Grade Distribution Students With and Without Internet\") + \n",
    "    labs(x = \"Internet Access\", y = \"Final Grade\")"
   ]
  },
  {
   "cell_type": "code",
   "execution_count": null,
   "id": "advisory-watch",
   "metadata": {},
   "outputs": [],
   "source": [
    "plot_grid(plot_no_internet, NULL, plot_have_internet, rel_widths = c(5,1,5))"
   ]
  },
  {
   "cell_type": "code",
   "execution_count": null,
   "id": "plain-uncle",
   "metadata": {},
   "outputs": [],
   "source": [
    "plot_grid(plot_both, NULL, boxplot, rel_widths = c(5,1,5), rel_heights = c(5,5))"
   ]
  },
  {
   "cell_type": "markdown",
   "id": "opening-summit",
   "metadata": {},
   "source": [
    "## **Methods**\n",
    "<p> In this analysis, we are drawing from a data set that is unbiased and representative. In the above section, we tidy and wrangle this data, then visualize it to get a sense of its meaning. By explaining our work and decision-making along the way, we produce a reproducible and trustworthy report. <br>\n",
    "Our initial analysis of the data is limiting because we only have access to sample distributions, among other preliminary statistics. Based on figure 3, we can hypothesize that students with internet access perform better than those without. However, we do not have a sense of how reliable this evidence is. While we have access to the mean grades for each group, we don’t have a measure of confidence for those values. To extend our analysis, we can conduct a hypothesis test and construct a confidence interval for the means of both groups of students. \n",
    "    \n",
    "#### **Hypothesis Test:**\n",
    "$m_1:$ the mean grade of students *with* internet access <br>\n",
    "$m_2:$ the mean grade of students *without* internet access\n",
    " \n",
    "##### **Null hypothesis:**\n",
    "$H_o: m_1 - m_2 = 0$\n",
    "##### **Alternative hypothesis:**\n",
    "$H_a: m_1 - m_2 > 0$\n",
    " \n",
    "<p> We expect that we will be able to reject our null hypothesis. In other words, we expect to show evidence that the mean grade of students without internet access is lower than the mean grade of students with internet access. <br>\n",
    "At a large scale, these findings could inform education decision-makers as to the best ways to support their students and improve overall scores. Specifically, governments should invest in providing students with internet access outside of school hours and at home. <br>\n",
    "Because this research looks at education as it happens in the home, especially how technology enables education to continue at home, we might ask more questions about these environments and how they impact students. For example, we might ask if students with their own personal device(s) perform better than students who share devices with others in their family. We might also ask if students with newer models of laptops or tablets (e.g. made within the last 5 years) perform better than students with older models. Finally, we might ask if students whose guardians have high technology and internet literacy perform better than students whose guardians do not. Like our research, these findings might inform government education spending and investments in technology for students.\n"
   ]
  },
  {
   "cell_type": "markdown",
   "id": "1b307a60-2af2-4083-bf07-627d274dbd14",
   "metadata": {},
   "source": [
    "## References"
   ]
  },
  {
   "cell_type": "markdown",
   "id": "7aee531b-be47-45be-bf63-b709c9b926f5",
   "metadata": {},
   "source": [
    "Jackson, L. A., von Eye, A., Biocca, F. A., Barbatsis, G., Zhao, Y., & Fitzgerald, H. E. (2006). Does home internet use influence the academic performance of low-income children? Developmental Psychology, 42(3), 429–435. https://doi.org/10.1037/0012-1649.42.3.429\n",
    "\n"
   ]
  },
  {
   "cell_type": "markdown",
   "id": "41c93751-dfe1-4090-aa6d-36bce354ae5e",
   "metadata": {},
   "source": [
    "Tarimo, R. & Kavishe, G. (2017). Internet access and usage by secondary school students in Morogoro Municipality, Tanzania. International Journal of Education and Development using ICT, 13(2), 56-69. "
   ]
  }
 ],
 "metadata": {
  "kernelspec": {
   "display_name": "R",
   "language": "R",
   "name": "ir"
  },
  "language_info": {
   "codemirror_mode": "r",
   "file_extension": ".r",
   "mimetype": "text/x-r-source",
   "name": "R",
   "pygments_lexer": "r",
   "version": "4.1.2"
  }
 },
 "nbformat": 4,
 "nbformat_minor": 5
}
