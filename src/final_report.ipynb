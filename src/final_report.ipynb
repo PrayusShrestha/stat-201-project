{
 "cells": [
  {
   "cell_type": "markdown",
   "id": "54494aee-0341-40c3-a316-d9c783b9cecd",
   "metadata": {},
   "source": [
    "# Impact of Internet Access on Student Performance"
   ]
  },
  {
   "cell_type": "markdown",
   "id": "heavy-secret",
   "metadata": {},
   "source": [
    "## Introduction"
   ]
  },
  {
   "cell_type": "markdown",
   "id": "6eaafbdf-4b14-477b-af04-a9f4a45f3eaf",
   "metadata": {},
   "source": [
    "One way to measure a student’s math ability is their final class grade. Different factors can influence this final grade. We propose studying how internet access at home may impact students' final grade, with our population being all students. Our question is the following: do students with internet access at home have higher mean final math grades than students without internet access at home?  \n",
    "\n",
    "There are a few reasons why we chose this topic. For one, we wanted our question to involve students as it makes this project personal and relevant, and therefore more interesting to us. This question is also relevant due to the prevalence of wifi-requiring tools used in education today. \n",
    "\n",
    "Our location parameter is the mean final grade, and our scale parameter is the standard deviation. The range of our response variable is small (0 to 20) and therefore outliers won't be overly influential on the mean and standard deviation. "
   ]
  },
  {
   "cell_type": "markdown",
   "id": "ceb1aff3-7b31-41ea-a10d-2381f081841f",
   "metadata": {
    "tags": []
   },
   "source": [
    "## Description of the Data Set"
   ]
  },
  {
   "cell_type": "markdown",
   "id": "115bfad7-69a1-4b27-9013-67a1ec5d8299",
   "metadata": {},
   "source": [
    "The sample we use is from the The Student Performance Data Set, created by two researchers, Paulo Cortez and Alice Silva, in 2008. They obtained the performance of secondary students from 2 Portuguese schools in math by collecting school reports and questionnaires to create a data set that consists of 33 columns with 395 rows that correspond to the number of students that participated in the study.  \n",
    "\n",
    "Previous studies have shown that the internet has led to an increase in grades if used optimally (Austin & Totaro, 2011) and that the majority of teachers are now using the internet as a teaching and learning tool (Sampath & Manjunath, 2013). Therefore, we are interested in analyzing the impact of internet access at home to students' final grade. \n",
    "\n",
    "We will be using the internet column as our explanatory variable and the G3 attribute as our response variable. The internet column is a binary variable that describes whether or not the student has internet access at home. The G3 column is a quantitative variable that describes the final year Mathematics grade of the student (from 0-20)."
   ]
  },
  {
   "cell_type": "markdown",
   "id": "compact-bunch",
   "metadata": {},
   "source": [
    "## Preliminary Analysis"
   ]
  },
  {
   "cell_type": "code",
   "execution_count": 1,
   "id": "normal-kernel",
   "metadata": {},
   "outputs": [
    {
     "name": "stderr",
     "output_type": "stream",
     "text": [
      "Warning message in system(\"timedatectl\", intern = TRUE):\n",
      "“running command 'timedatectl' had status 1”\n",
      "── \u001b[1mAttaching packages\u001b[22m ─────────────────────────────────────── tidyverse 1.3.1 ──\n",
      "\n",
      "\u001b[32m✔\u001b[39m \u001b[34mggplot2\u001b[39m 3.3.5     \u001b[32m✔\u001b[39m \u001b[34mpurrr  \u001b[39m 0.3.4\n",
      "\u001b[32m✔\u001b[39m \u001b[34mtibble \u001b[39m 3.1.6     \u001b[32m✔\u001b[39m \u001b[34mdplyr  \u001b[39m 1.0.8\n",
      "\u001b[32m✔\u001b[39m \u001b[34mtidyr  \u001b[39m 1.2.0     \u001b[32m✔\u001b[39m \u001b[34mstringr\u001b[39m 1.4.0\n",
      "\u001b[32m✔\u001b[39m \u001b[34mreadr  \u001b[39m 2.1.1     \u001b[32m✔\u001b[39m \u001b[34mforcats\u001b[39m 0.5.1\n",
      "\n",
      "── \u001b[1mConflicts\u001b[22m ────────────────────────────────────────── tidyverse_conflicts() ──\n",
      "\u001b[31m✖\u001b[39m \u001b[34mdplyr\u001b[39m::\u001b[32mfilter()\u001b[39m masks \u001b[34mstats\u001b[39m::filter()\n",
      "\u001b[31m✖\u001b[39m \u001b[34mdplyr\u001b[39m::\u001b[32mlag()\u001b[39m    masks \u001b[34mstats\u001b[39m::lag()\n",
      "\n"
     ]
    }
   ],
   "source": [
    "# Loading needed libraries\n",
    "library(tidyverse)\n",
    "library(cowplot)\n",
    "library(infer)\n",
    "library(broom)"
   ]
  },
  {
   "cell_type": "code",
   "execution_count": 2,
   "id": "elect-upgrade",
   "metadata": {},
   "outputs": [
    {
     "name": "stderr",
     "output_type": "stream",
     "text": [
      "\u001b[1mRows: \u001b[22m\u001b[34m395\u001b[39m \u001b[1mColumns: \u001b[22m\u001b[34m33\u001b[39m\n",
      "\u001b[36m──\u001b[39m \u001b[1mColumn specification\u001b[22m \u001b[36m────────────────────────────────────────────────────────\u001b[39m\n",
      "\u001b[1mDelimiter:\u001b[22m \";\"\n",
      "\u001b[31mchr\u001b[39m (17): school, sex, address, famsize, Pstatus, Mjob, Fjob, reason, guardi...\n",
      "\u001b[32mdbl\u001b[39m (16): age, Medu, Fedu, traveltime, studytime, failures, famrel, freetime...\n",
      "\n",
      "\u001b[36mℹ\u001b[39m Use \u001b[30m\u001b[47m\u001b[30m\u001b[47m`spec()`\u001b[47m\u001b[30m\u001b[49m\u001b[39m to retrieve the full column specification for this data.\n",
      "\u001b[36mℹ\u001b[39m Specify the column types or set \u001b[30m\u001b[47m\u001b[30m\u001b[47m`show_col_types = FALSE`\u001b[47m\u001b[30m\u001b[49m\u001b[39m to quiet this message.\n"
     ]
    },
    {
     "data": {
      "text/html": [
       "<table class=\"dataframe\">\n",
       "<caption>A tibble: 6 × 33</caption>\n",
       "<thead>\n",
       "\t<tr><th scope=col>school</th><th scope=col>sex</th><th scope=col>age</th><th scope=col>address</th><th scope=col>famsize</th><th scope=col>Pstatus</th><th scope=col>Medu</th><th scope=col>Fedu</th><th scope=col>Mjob</th><th scope=col>Fjob</th><th scope=col>⋯</th><th scope=col>famrel</th><th scope=col>freetime</th><th scope=col>goout</th><th scope=col>Dalc</th><th scope=col>Walc</th><th scope=col>health</th><th scope=col>absences</th><th scope=col>G1</th><th scope=col>G2</th><th scope=col>G3</th></tr>\n",
       "\t<tr><th scope=col>&lt;chr&gt;</th><th scope=col>&lt;chr&gt;</th><th scope=col>&lt;dbl&gt;</th><th scope=col>&lt;chr&gt;</th><th scope=col>&lt;chr&gt;</th><th scope=col>&lt;chr&gt;</th><th scope=col>&lt;dbl&gt;</th><th scope=col>&lt;dbl&gt;</th><th scope=col>&lt;chr&gt;</th><th scope=col>&lt;chr&gt;</th><th scope=col>⋯</th><th scope=col>&lt;dbl&gt;</th><th scope=col>&lt;dbl&gt;</th><th scope=col>&lt;dbl&gt;</th><th scope=col>&lt;dbl&gt;</th><th scope=col>&lt;dbl&gt;</th><th scope=col>&lt;dbl&gt;</th><th scope=col>&lt;dbl&gt;</th><th scope=col>&lt;dbl&gt;</th><th scope=col>&lt;dbl&gt;</th><th scope=col>&lt;dbl&gt;</th></tr>\n",
       "</thead>\n",
       "<tbody>\n",
       "\t<tr><td>GP</td><td>F</td><td>18</td><td>U</td><td>GT3</td><td>A</td><td>4</td><td>4</td><td>at_home </td><td>teacher </td><td>⋯</td><td>4</td><td>3</td><td>4</td><td>1</td><td>1</td><td>3</td><td> 6</td><td> 5</td><td> 6</td><td> 6</td></tr>\n",
       "\t<tr><td>GP</td><td>F</td><td>17</td><td>U</td><td>GT3</td><td>T</td><td>1</td><td>1</td><td>at_home </td><td>other   </td><td>⋯</td><td>5</td><td>3</td><td>3</td><td>1</td><td>1</td><td>3</td><td> 4</td><td> 5</td><td> 5</td><td> 6</td></tr>\n",
       "\t<tr><td>GP</td><td>F</td><td>15</td><td>U</td><td>LE3</td><td>T</td><td>1</td><td>1</td><td>at_home </td><td>other   </td><td>⋯</td><td>4</td><td>3</td><td>2</td><td>2</td><td>3</td><td>3</td><td>10</td><td> 7</td><td> 8</td><td>10</td></tr>\n",
       "\t<tr><td>GP</td><td>F</td><td>15</td><td>U</td><td>GT3</td><td>T</td><td>4</td><td>2</td><td>health  </td><td>services</td><td>⋯</td><td>3</td><td>2</td><td>2</td><td>1</td><td>1</td><td>5</td><td> 2</td><td>15</td><td>14</td><td>15</td></tr>\n",
       "\t<tr><td>GP</td><td>F</td><td>16</td><td>U</td><td>GT3</td><td>T</td><td>3</td><td>3</td><td>other   </td><td>other   </td><td>⋯</td><td>4</td><td>3</td><td>2</td><td>1</td><td>2</td><td>5</td><td> 4</td><td> 6</td><td>10</td><td>10</td></tr>\n",
       "\t<tr><td>GP</td><td>M</td><td>16</td><td>U</td><td>LE3</td><td>T</td><td>4</td><td>3</td><td>services</td><td>other   </td><td>⋯</td><td>5</td><td>4</td><td>2</td><td>1</td><td>2</td><td>5</td><td>10</td><td>15</td><td>15</td><td>15</td></tr>\n",
       "</tbody>\n",
       "</table>\n"
      ],
      "text/latex": [
       "A tibble: 6 × 33\n",
       "\\begin{tabular}{lllllllllllllllllllll}\n",
       " school & sex & age & address & famsize & Pstatus & Medu & Fedu & Mjob & Fjob & ⋯ & famrel & freetime & goout & Dalc & Walc & health & absences & G1 & G2 & G3\\\\\n",
       " <chr> & <chr> & <dbl> & <chr> & <chr> & <chr> & <dbl> & <dbl> & <chr> & <chr> & ⋯ & <dbl> & <dbl> & <dbl> & <dbl> & <dbl> & <dbl> & <dbl> & <dbl> & <dbl> & <dbl>\\\\\n",
       "\\hline\n",
       "\t GP & F & 18 & U & GT3 & A & 4 & 4 & at\\_home  & teacher  & ⋯ & 4 & 3 & 4 & 1 & 1 & 3 &  6 &  5 &  6 &  6\\\\\n",
       "\t GP & F & 17 & U & GT3 & T & 1 & 1 & at\\_home  & other    & ⋯ & 5 & 3 & 3 & 1 & 1 & 3 &  4 &  5 &  5 &  6\\\\\n",
       "\t GP & F & 15 & U & LE3 & T & 1 & 1 & at\\_home  & other    & ⋯ & 4 & 3 & 2 & 2 & 3 & 3 & 10 &  7 &  8 & 10\\\\\n",
       "\t GP & F & 15 & U & GT3 & T & 4 & 2 & health   & services & ⋯ & 3 & 2 & 2 & 1 & 1 & 5 &  2 & 15 & 14 & 15\\\\\n",
       "\t GP & F & 16 & U & GT3 & T & 3 & 3 & other    & other    & ⋯ & 4 & 3 & 2 & 1 & 2 & 5 &  4 &  6 & 10 & 10\\\\\n",
       "\t GP & M & 16 & U & LE3 & T & 4 & 3 & services & other    & ⋯ & 5 & 4 & 2 & 1 & 2 & 5 & 10 & 15 & 15 & 15\\\\\n",
       "\\end{tabular}\n"
      ],
      "text/markdown": [
       "\n",
       "A tibble: 6 × 33\n",
       "\n",
       "| school &lt;chr&gt; | sex &lt;chr&gt; | age &lt;dbl&gt; | address &lt;chr&gt; | famsize &lt;chr&gt; | Pstatus &lt;chr&gt; | Medu &lt;dbl&gt; | Fedu &lt;dbl&gt; | Mjob &lt;chr&gt; | Fjob &lt;chr&gt; | ⋯ ⋯ | famrel &lt;dbl&gt; | freetime &lt;dbl&gt; | goout &lt;dbl&gt; | Dalc &lt;dbl&gt; | Walc &lt;dbl&gt; | health &lt;dbl&gt; | absences &lt;dbl&gt; | G1 &lt;dbl&gt; | G2 &lt;dbl&gt; | G3 &lt;dbl&gt; |\n",
       "|---|---|---|---|---|---|---|---|---|---|---|---|---|---|---|---|---|---|---|---|---|\n",
       "| GP | F | 18 | U | GT3 | A | 4 | 4 | at_home  | teacher  | ⋯ | 4 | 3 | 4 | 1 | 1 | 3 |  6 |  5 |  6 |  6 |\n",
       "| GP | F | 17 | U | GT3 | T | 1 | 1 | at_home  | other    | ⋯ | 5 | 3 | 3 | 1 | 1 | 3 |  4 |  5 |  5 |  6 |\n",
       "| GP | F | 15 | U | LE3 | T | 1 | 1 | at_home  | other    | ⋯ | 4 | 3 | 2 | 2 | 3 | 3 | 10 |  7 |  8 | 10 |\n",
       "| GP | F | 15 | U | GT3 | T | 4 | 2 | health   | services | ⋯ | 3 | 2 | 2 | 1 | 1 | 5 |  2 | 15 | 14 | 15 |\n",
       "| GP | F | 16 | U | GT3 | T | 3 | 3 | other    | other    | ⋯ | 4 | 3 | 2 | 1 | 2 | 5 |  4 |  6 | 10 | 10 |\n",
       "| GP | M | 16 | U | LE3 | T | 4 | 3 | services | other    | ⋯ | 5 | 4 | 2 | 1 | 2 | 5 | 10 | 15 | 15 | 15 |\n",
       "\n"
      ],
      "text/plain": [
       "  school sex age address famsize Pstatus Medu Fedu Mjob     Fjob     ⋯ famrel\n",
       "1 GP     F   18  U       GT3     A       4    4    at_home  teacher  ⋯ 4     \n",
       "2 GP     F   17  U       GT3     T       1    1    at_home  other    ⋯ 5     \n",
       "3 GP     F   15  U       LE3     T       1    1    at_home  other    ⋯ 4     \n",
       "4 GP     F   15  U       GT3     T       4    2    health   services ⋯ 3     \n",
       "5 GP     F   16  U       GT3     T       3    3    other    other    ⋯ 4     \n",
       "6 GP     M   16  U       LE3     T       4    3    services other    ⋯ 5     \n",
       "  freetime goout Dalc Walc health absences G1 G2 G3\n",
       "1 3        4     1    1    3       6        5  6  6\n",
       "2 3        3     1    1    3       4        5  5  6\n",
       "3 3        2     2    3    3      10        7  8 10\n",
       "4 2        2     1    1    5       2       15 14 15\n",
       "5 3        2     1    2    5       4        6 10 10\n",
       "6 4        2     1    2    5      10       15 15 15"
      ]
     },
     "metadata": {},
     "output_type": "display_data"
    }
   ],
   "source": [
    "# Reading the data from our GitHub repository \n",
    "url <- \"https://raw.githubusercontent.com/PrayusShrestha/stat-201-project/main/data/student-mat.csv\"\n",
    "raw_data <- read_delim(url, delim = \";\")\n",
    "head(raw_data)"
   ]
  },
  {
   "cell_type": "markdown",
   "id": "active-concrete",
   "metadata": {},
   "source": [
    "From the tibble above, we see that the raw data we read is already in a tidy format. Each row is an observation, each column is a variable, and each cell is a value (Data Science: A First Introduction). Over the next few code cells, we will be renaming columns to be more readable (`G3` becomes `final_grade`), selecting the relevant columns (`internet` and `final_grade`) and checking if null values exist (and dealing with them if they do exist). We will then check the count of students with and without internet access. Finally, we will calculate summary statistics. "
   ]
  },
  {
   "cell_type": "code",
   "execution_count": 3,
   "id": "brazilian-sydney",
   "metadata": {},
   "outputs": [
    {
     "data": {
      "text/html": [
       "<table class=\"dataframe\">\n",
       "<caption>A tibble: 6 × 2</caption>\n",
       "<thead>\n",
       "\t<tr><th scope=col>internet</th><th scope=col>final_grade</th></tr>\n",
       "\t<tr><th scope=col>&lt;chr&gt;</th><th scope=col>&lt;dbl&gt;</th></tr>\n",
       "</thead>\n",
       "<tbody>\n",
       "\t<tr><td>no </td><td> 6</td></tr>\n",
       "\t<tr><td>yes</td><td> 6</td></tr>\n",
       "\t<tr><td>yes</td><td>10</td></tr>\n",
       "\t<tr><td>yes</td><td>15</td></tr>\n",
       "\t<tr><td>no </td><td>10</td></tr>\n",
       "\t<tr><td>yes</td><td>15</td></tr>\n",
       "</tbody>\n",
       "</table>\n"
      ],
      "text/latex": [
       "A tibble: 6 × 2\n",
       "\\begin{tabular}{ll}\n",
       " internet & final\\_grade\\\\\n",
       " <chr> & <dbl>\\\\\n",
       "\\hline\n",
       "\t no  &  6\\\\\n",
       "\t yes &  6\\\\\n",
       "\t yes & 10\\\\\n",
       "\t yes & 15\\\\\n",
       "\t no  & 10\\\\\n",
       "\t yes & 15\\\\\n",
       "\\end{tabular}\n"
      ],
      "text/markdown": [
       "\n",
       "A tibble: 6 × 2\n",
       "\n",
       "| internet &lt;chr&gt; | final_grade &lt;dbl&gt; |\n",
       "|---|---|\n",
       "| no  |  6 |\n",
       "| yes |  6 |\n",
       "| yes | 10 |\n",
       "| yes | 15 |\n",
       "| no  | 10 |\n",
       "| yes | 15 |\n",
       "\n"
      ],
      "text/plain": [
       "  internet final_grade\n",
       "1 no        6         \n",
       "2 yes       6         \n",
       "3 yes      10         \n",
       "4 yes      15         \n",
       "5 no       10         \n",
       "6 yes      15         "
      ]
     },
     "metadata": {},
     "output_type": "display_data"
    }
   ],
   "source": [
    "# Selecting for just the relevant columns and changing column name to be more human readable\n",
    "data <- raw_data  %>% \n",
    "    mutate(final_grade = G3)  %>% \n",
    "    select(internet, final_grade)\n",
    "head(data)"
   ]
  },
  {
   "cell_type": "code",
   "execution_count": 4,
   "id": "registered-horror",
   "metadata": {},
   "outputs": [
    {
     "data": {
      "text/html": [
       "0"
      ],
      "text/latex": [
       "0"
      ],
      "text/markdown": [
       "0"
      ],
      "text/plain": [
       "[1] 0"
      ]
     },
     "metadata": {},
     "output_type": "display_data"
    },
    {
     "data": {
      "text/html": [
       "0"
      ],
      "text/latex": [
       "0"
      ],
      "text/markdown": [
       "0"
      ],
      "text/plain": [
       "[1] 0"
      ]
     },
     "metadata": {},
     "output_type": "display_data"
    }
   ],
   "source": [
    "# Checking if any rows have null values \n",
    "num_of_na_internet <- sum(is.na(data$internet))\n",
    "num_of_na_final_grade <- sum(is.na(data$final_grade))\n",
    "\n",
    "num_of_na_internet\n",
    "num_of_na_final_grade"
   ]
  },
  {
   "cell_type": "markdown",
   "id": "developmental-anxiety",
   "metadata": {},
   "source": [
    "From above, it can be seen there there are no NA values."
   ]
  },
  {
   "cell_type": "code",
   "execution_count": 5,
   "id": "lined-token",
   "metadata": {},
   "outputs": [
    {
     "data": {
      "text/html": [
       "<table class=\"dataframe\">\n",
       "<caption>A tibble: 2 × 2</caption>\n",
       "<thead>\n",
       "\t<tr><th scope=col>internet</th><th scope=col>n</th></tr>\n",
       "\t<tr><th scope=col>&lt;chr&gt;</th><th scope=col>&lt;int&gt;</th></tr>\n",
       "</thead>\n",
       "<tbody>\n",
       "\t<tr><td>no </td><td> 66</td></tr>\n",
       "\t<tr><td>yes</td><td>329</td></tr>\n",
       "</tbody>\n",
       "</table>\n"
      ],
      "text/latex": [
       "A tibble: 2 × 2\n",
       "\\begin{tabular}{ll}\n",
       " internet & n\\\\\n",
       " <chr> & <int>\\\\\n",
       "\\hline\n",
       "\t no  &  66\\\\\n",
       "\t yes & 329\\\\\n",
       "\\end{tabular}\n"
      ],
      "text/markdown": [
       "\n",
       "A tibble: 2 × 2\n",
       "\n",
       "| internet &lt;chr&gt; | n &lt;int&gt; |\n",
       "|---|---|\n",
       "| no  |  66 |\n",
       "| yes | 329 |\n",
       "\n"
      ],
      "text/plain": [
       "  internet n  \n",
       "1 no        66\n",
       "2 yes      329"
      ]
     },
     "metadata": {},
     "output_type": "display_data"
    }
   ],
   "source": [
    "# Counting how many of each category (access, or no access, to internet at home) are in the sample \n",
    "internet_access_tally <- data %>%\n",
    "    group_by(internet) %>%\n",
    "    tally()\n",
    "\n",
    "internet_access_tally"
   ]
  },
  {
   "cell_type": "code",
   "execution_count": 6,
   "id": "shaped-suffering",
   "metadata": {},
   "outputs": [
    {
     "data": {
      "text/html": [
       "<table class=\"dataframe\">\n",
       "<caption>A tibble: 2 × 3</caption>\n",
       "<thead>\n",
       "\t<tr><th scope=col>internet</th><th scope=col>std_dev</th><th scope=col>mean_final_grade</th></tr>\n",
       "\t<tr><th scope=col>&lt;chr&gt;</th><th scope=col>&lt;dbl&gt;</th><th scope=col>&lt;dbl&gt;</th></tr>\n",
       "</thead>\n",
       "<tbody>\n",
       "\t<tr><td>no </td><td>4.485797</td><td> 9.409091</td></tr>\n",
       "\t<tr><td>yes</td><td>4.580494</td><td>10.617021</td></tr>\n",
       "</tbody>\n",
       "</table>\n"
      ],
      "text/latex": [
       "A tibble: 2 × 3\n",
       "\\begin{tabular}{lll}\n",
       " internet & std\\_dev & mean\\_final\\_grade\\\\\n",
       " <chr> & <dbl> & <dbl>\\\\\n",
       "\\hline\n",
       "\t no  & 4.485797 &  9.409091\\\\\n",
       "\t yes & 4.580494 & 10.617021\\\\\n",
       "\\end{tabular}\n"
      ],
      "text/markdown": [
       "\n",
       "A tibble: 2 × 3\n",
       "\n",
       "| internet &lt;chr&gt; | std_dev &lt;dbl&gt; | mean_final_grade &lt;dbl&gt; |\n",
       "|---|---|---|\n",
       "| no  | 4.485797 |  9.409091 |\n",
       "| yes | 4.580494 | 10.617021 |\n",
       "\n"
      ],
      "text/plain": [
       "  internet std_dev  mean_final_grade\n",
       "1 no       4.485797  9.409091       \n",
       "2 yes      4.580494 10.617021       "
      ]
     },
     "metadata": {},
     "output_type": "display_data"
    }
   ],
   "source": [
    "# Generating summary statistics (standard deviation and mean)\n",
    "data_summary  <- data  %>% \n",
    "    group_by(internet)  %>% \n",
    "    summarize(std_dev = sd(final_grade),\n",
    "              mean_final_grade = mean(final_grade))\n",
    "data_summary"
   ]
  },
  {
   "cell_type": "markdown",
   "id": "successful-detroit",
   "metadata": {},
   "source": [
    "The table above shows the mean and standard deviation of final math grades, split by home internet access status.\n",
    "\n",
    "We will now create three histograms and one box and whisker plot to visualize the data and show its center, spread, and shape. "
   ]
  },
  {
   "cell_type": "code",
   "execution_count": 7,
   "id": "civil-dubai",
   "metadata": {},
   "outputs": [],
   "source": [
    "# 4 plots of the relevant raw data\n",
    "\n",
    "# Plot 1: Final Grade Distribution of Students Without Internet Access\n",
    "plot_no_internet <- data  %>% \n",
    "    filter(internet == \"no\")  %>% \n",
    "    ggplot(aes(x = final_grade)) +\n",
    "    geom_histogram(binwidth = 2) + \n",
    "    geom_vline(xintercept = data_summary$mean_final_grade[1]) + \n",
    "    xlab(\"Final Grade\") + \n",
    "    ggtitle(\"Figure 1: Final Grade Distribution Students Without Internet Access\") \n",
    "\n",
    "# Plot 2: Final Grade Distribution of Students With Internet Access\n",
    "plot_have_internet <- data  %>% \n",
    "    filter(internet == \"yes\")  %>% \n",
    "    ggplot(aes(x = final_grade)) +\n",
    "    geom_histogram(binwidth = 2) +\n",
    "    geom_vline(xintercept = data_summary$mean_final_grade[2]) + \n",
    "    xlab(\"Final Grade\") + \n",
    "    ggtitle(\"Figure 2: Final Grade Distribution Students With Internet Access\")\n",
    "\n",
    "# Plot 3: Final Grade Distribution of Students With and Without Internet\n",
    "plot_both <- ggplot(data, aes(x = final_grade, fill = internet)) + \n",
    "    geom_histogram(binwidth = 2, alpha = 0.5, position = \"identity\", aes(y = ..density..)) + \n",
    "    xlab(\"Final Grade\") + \n",
    "    ggtitle(\"Figure 3: Final Grade Distribution Students With and Without Internet\")\n",
    "\n",
    "# Plot 4: Boxplot with Final Grade Distribution Students With and Without Internet\n",
    "boxplot  <- ggplot(data = data, mapping = aes(x = internet, y = final_grade)) +\n",
    "    geom_boxplot() +\n",
    "    ggtitle(\"Figure 4: Boxplot of Final Grade Distribution Students With and Without Internet\") + \n",
    "    labs(x = \"Internet Access\", y = \"Final Grade\")"
   ]
  },
  {
   "cell_type": "code",
   "execution_count": 8,
   "id": "advisory-watch",
   "metadata": {},
   "outputs": [
    {
     "data": {
      "image/png": "[encoded data removed]",
      "text/plain": [
       "plot without title"
      ]
     },
     "metadata": {
      "image/png": {
       "height": 420,
       "width": 420
      }
     },
     "output_type": "display_data"
    },
    {
     "data": {
      "image/png": "[encoded data removed]",
      "text/plain": [
       "plot without title"
      ]
     },
     "metadata": {
      "image/png": {
       "height": 420,
       "width": 420
      }
     },
     "output_type": "display_data"
    }
   ],
   "source": [
    "plot_no_internet\n",
    "plot_have_internet"
   ]
  },
  {
   "cell_type": "markdown",
   "id": "hindu-allergy",
   "metadata": {},
   "source": [
    "The 2 histograms above each show a subset of our sample distribution, with each histogram having data filtered based on whether the student did or didn't have access to the internet at home. The vertical line represents their corresponding mean. In general, we can see a rough bell curve being formed; for both plots, there seems to be a spike of people who got a 0. "
   ]
  },
  {
   "cell_type": "code",
   "execution_count": 9,
   "id": "plain-uncle",
   "metadata": {},
   "outputs": [
    {
     "data": {
      "image/png": "[encoded data removed]",
      "text/plain": [
       "plot without title"
      ]
     },
     "metadata": {
      "image/png": {
       "height": 420,
       "width": 420
      }
     },
     "output_type": "display_data"
    },
    {
     "data": {
      "image/png": "[encoded data removed]",
      "text/plain": [
       "plot without title"
      ]
     },
     "metadata": {
      "image/png": {
       "height": 420,
       "width": 420
      }
     },
     "output_type": "display_data"
    }
   ],
   "source": [
    "plot_both \n",
    "boxplot"
   ]
  },
  {
   "cell_type": "markdown",
   "id": "quarterly-sheffield",
   "metadata": {},
   "source": [
    "In Figure 3, we observe that the data coloured blue (representing those with home internet access) seems to be shifted to the right (ie. towards a higher final grade) when compared to the light blue of those without internet access. \n",
    "\n",
    "Figure 4 tells a similar story to the previous histogram. It has the \"yes\" column (those with home internet access) having a higher median (and first and third quantiles) compared to the \"no\" column. "
   ]
  },
  {
   "cell_type": "markdown",
   "id": "opening-summit",
   "metadata": {
    "tags": []
   },
   "source": [
    "## **Methods**\n",
    "\n",
    "<p> In this analysis, we are drawing from a data set that is unbiased and representative. By explaining our work and decision-making along the way, we produce a reproducible and trustworthy report. <br>\n",
    "\n",
    "Based on Figure 3, we can hypothesize that students with internet access perform better than those without. This analysis of the data is limiting because we only have access to sample distributions and we do not have a measure of confidence or reliability for the means. To extend our analysis, we can conduct a hypothesis test and construct a confidence interval for the difference of means of both groups of students. \n",
    "    \n",
    "#### **Hypothesis Test:**\n",
    "$m_1:$ the mean grade of students *with* internet access <br>\n",
    "$m_2:$ the mean grade of students *without* internet access\n",
    " \n",
    "##### **Null hypothesis:**\n",
    "$H_o: m_1 - m_2 = 0$\n",
    "##### **Alternative hypothesis:**\n",
    "$H_a: m_1 - m_2 > 0$\n",
    "##### **Significance Level:** 0.05\n",
    " \n",
    "<p> We expect that we will be able to reject our null hypothesis at a 5% significance level. In other words, we can show evidence that the mean grade of students without internet access is lower than the mean grade of students with internet access. \n"
   ]
  },
  {
   "cell_type": "markdown",
   "id": "a6d14f68-5bbd-405b-8b14-1aee9aab4561",
   "metadata": {},
   "source": [
    "## **Analysis**"
   ]
  },
  {
   "cell_type": "markdown",
   "id": "dc008a7c-29a4-4dd1-b643-ceb38100dfac",
   "metadata": {},
   "source": [
    "### Bootstrapping Confidence Interval"
   ]
  },
  {
   "cell_type": "markdown",
   "id": "4821ec04-5af5-4c6d-beb7-81aa64a9930e",
   "metadata": {},
   "source": [
    "We are going to begin by creating a bootstrap sampling distribution for the difference in mean final grades between our two samples. This will help us create a plausible range of values for the actual difference in means, also known as a confidence interval."
   ]
  },
  {
   "cell_type": "markdown",
   "id": "621db4dc-4056-4808-a795-a9664dee4349",
   "metadata": {},
   "source": [
    "First, we will use the infer workflow to create a bootstrap sampling distribution with 1000 replicates and then visualize it."
   ]
  },
  {
   "cell_type": "code",
   "execution_count": 10,
   "id": "b93a0c7c-01e5-49d9-b8cb-64777aa31d75",
   "metadata": {},
   "outputs": [
    {
     "data": {
      "image/png": "[encoded data removed]",
      "text/plain": [
       "plot without title"
      ]
     },
     "metadata": {
      "image/png": {
       "height": 420,
       "width": 420
      }
     },
     "output_type": "display_data"
    }
   ],
   "source": [
    "set.seed(1)\n",
    "\n",
    "bootstrap_distribution <- data %>% \n",
    "  specify(formula = final_grade ~ internet) %>%   \n",
    "  generate(reps = 1000, type = \"bootstrap\") %>% \n",
    "  calculate(stat = \"diff in means\", order = c(\"yes\", \"no\"))\n",
    "\n",
    "boot_dist_plot <- visualize(bootstrap_distribution) +\n",
    "theme(text = element_text(size = 18)) +\n",
    "ggtitle(\"Figure 5: Bootstrap Sampling Distribution\") +\n",
    "xlab(\"Difference in Mean Final Grades\") +\n",
    "ylab(\"Count\")\n",
    "\n",
    "boot_dist_plot \n"
   ]
  },
  {
   "cell_type": "markdown",
   "id": "35576280-577b-4db6-a548-07d4412424a9",
   "metadata": {},
   "source": [
    "We can see that the center of this plot is around 1.25. That means that on average someone with internet access has a grade about 1.25 points (out of 20) higher than someone without internet access."
   ]
  },
  {
   "cell_type": "markdown",
   "id": "2bcfb931-d9e7-40ee-9693-082a090ec0a1",
   "metadata": {},
   "source": [
    "We can calculate the exact mean of the bootstrap sampling distribution using the infer workflow."
   ]
  },
  {
   "cell_type": "code",
   "execution_count": 11,
   "id": "c7b671da-a574-4aa2-9f34-a4fd05013488",
   "metadata": {},
   "outputs": [
    {
     "data": {
      "text/html": [
       "1.20793036750484"
      ],
      "text/latex": [
       "1.20793036750484"
      ],
      "text/markdown": [
       "1.20793036750484"
      ],
      "text/plain": [
       "[1] 1.20793"
      ]
     },
     "metadata": {},
     "output_type": "display_data"
    }
   ],
   "source": [
    "obs_diff_mean <- data %>% \n",
    "  specify(final_grade ~ internet) %>% \n",
    "  calculate(stat = \"diff in means\", order = c(\"yes\", \"no\")) %>%\n",
    "  pull()\n",
    "obs_diff_mean"
   ]
  },
  {
   "cell_type": "markdown",
   "id": "65710128-7218-4a74-b092-7cf4293740a7",
   "metadata": {},
   "source": [
    "Our estimate was pretty close, the mean of our bootstrap sampling distribution is actually about 1.208."
   ]
  },
  {
   "cell_type": "markdown",
   "id": "dd0d954a-e48c-4ad8-9865-3bdd21dcaa27",
   "metadata": {},
   "source": [
    "Now we can create a 95% confidence interval for our parameter, the actual difference of means between the two groups."
   ]
  },
  {
   "cell_type": "code",
   "execution_count": 12,
   "id": "b4f37224-0691-4352-a95c-5bc9cb2751d9",
   "metadata": {
    "tags": []
   },
   "outputs": [
    {
     "data": {
      "text/html": [
       "'Figure 6'"
      ],
      "text/latex": [
       "'Figure 6'"
      ],
      "text/markdown": [
       "'Figure 6'"
      ],
      "text/plain": [
       "[1] \"Figure 6\""
      ]
     },
     "metadata": {},
     "output_type": "display_data"
    },
    {
     "data": {
      "text/html": [
       "<table class=\"dataframe\">\n",
       "<caption>A tibble: 1 × 2</caption>\n",
       "<thead>\n",
       "\t<tr><th scope=col>lower_ci</th><th scope=col>upper_ci</th></tr>\n",
       "\t<tr><th scope=col>&lt;dbl&gt;</th><th scope=col>&lt;dbl&gt;</th></tr>\n",
       "</thead>\n",
       "<tbody>\n",
       "\t<tr><td>-0.05574639</td><td>2.400558</td></tr>\n",
       "</tbody>\n",
       "</table>\n"
      ],
      "text/latex": [
       "A tibble: 1 × 2\n",
       "\\begin{tabular}{ll}\n",
       " lower\\_ci & upper\\_ci\\\\\n",
       " <dbl> & <dbl>\\\\\n",
       "\\hline\n",
       "\t -0.05574639 & 2.400558\\\\\n",
       "\\end{tabular}\n"
      ],
      "text/markdown": [
       "\n",
       "A tibble: 1 × 2\n",
       "\n",
       "| lower_ci &lt;dbl&gt; | upper_ci &lt;dbl&gt; |\n",
       "|---|---|\n",
       "| -0.05574639 | 2.400558 |\n",
       "\n"
      ],
      "text/plain": [
       "  lower_ci    upper_ci\n",
       "1 -0.05574639 2.400558"
      ]
     },
     "metadata": {},
     "output_type": "display_data"
    }
   ],
   "source": [
    "ci <- bootstrap_distribution %>%\n",
    "get_ci(level = 0.95, type = \"percentile\")\n",
    "\"Figure 6\"\n",
    "ci"
   ]
  },
  {
   "cell_type": "markdown",
   "id": "57e91400-9d47-4689-bd7d-ce2aafc0a92d",
   "metadata": {},
   "source": [
    "Our 95% confidence interval is -0.05574639 to 2.43882. These values are the 2.5th and 97.5th percentiles, respectively, of our bootstrap distribution. We are 95% confident that the true difference in mean final grades lies within this interval. In other words, if we take many many samples and calculate their difference in mean final grades, we expect that those values will fall within this confidence interval 95% of the time."
   ]
  },
  {
   "cell_type": "markdown",
   "id": "0d2cbcd5-668b-45b1-89f6-485f2220bfa5",
   "metadata": {},
   "source": [
    "### Asymptotics Confidence Interval"
   ]
  },
  {
   "cell_type": "markdown",
   "id": "9919ed5d-e839-4dd4-92be-75a9b0f8034b",
   "metadata": {},
   "source": [
    "Now we will calculate the 95% confidence interval using asymptotics. The formula we need to use to calculate the confidence interval is the following:\n",
    "\n",
    "$${{m_1}-{m_2} - 0} \\pm qt(0.975, {df}) \\times {\\sqrt{\\frac{s_1^2}{n_1} + \\frac{s_2^2}{n_2}} }$$\n",
    "\n",
    "where $$df = \\frac{\n",
    "    \\left(\\frac{s_1^2}{n_1}+\\frac{s_2^2}{n_2}\\right)^2\n",
    "}\n",
    "{\n",
    "\\frac{s_1^4}{n_1^2(n_1-1)}+\\frac{s_2^4}{n_2^2(n_2-1)}\n",
    "}\n",
    "$$\n"
   ]
  },
  {
   "cell_type": "markdown",
   "id": "df3873bc-de62-4168-9252-5b65f5bc0308",
   "metadata": {},
   "source": [
    "Let's start by calculating the mean  variance of the final grades of our two groups, yes internet and no internet. We will also count up the sample size of each group."
   ]
  },
  {
   "cell_type": "code",
   "execution_count": 13,
   "id": "427d5bd1-60b1-4128-a233-f0f599cd7e45",
   "metadata": {},
   "outputs": [
    {
     "data": {
      "text/html": [
       "'Figure 7'"
      ],
      "text/latex": [
       "'Figure 7'"
      ],
      "text/markdown": [
       "'Figure 7'"
      ],
      "text/plain": [
       "[1] \"Figure 7\""
      ]
     },
     "metadata": {},
     "output_type": "display_data"
    },
    {
     "data": {
      "text/html": [
       "<table class=\"dataframe\">\n",
       "<caption>A tibble: 2 × 4</caption>\n",
       "<thead>\n",
       "\t<tr><th scope=col>internet</th><th scope=col>sample_mean</th><th scope=col>sample_var</th><th scope=col>n</th></tr>\n",
       "\t<tr><th scope=col>&lt;chr&gt;</th><th scope=col>&lt;dbl&gt;</th><th scope=col>&lt;dbl&gt;</th><th scope=col>&lt;int&gt;</th></tr>\n",
       "</thead>\n",
       "<tbody>\n",
       "\t<tr><td>no </td><td> 9.409091</td><td>20.12238</td><td> 66</td></tr>\n",
       "\t<tr><td>yes</td><td>10.617021</td><td>20.98093</td><td>329</td></tr>\n",
       "</tbody>\n",
       "</table>\n"
      ],
      "text/latex": [
       "A tibble: 2 × 4\n",
       "\\begin{tabular}{llll}\n",
       " internet & sample\\_mean & sample\\_var & n\\\\\n",
       " <chr> & <dbl> & <dbl> & <int>\\\\\n",
       "\\hline\n",
       "\t no  &  9.409091 & 20.12238 &  66\\\\\n",
       "\t yes & 10.617021 & 20.98093 & 329\\\\\n",
       "\\end{tabular}\n"
      ],
      "text/markdown": [
       "\n",
       "A tibble: 2 × 4\n",
       "\n",
       "| internet &lt;chr&gt; | sample_mean &lt;dbl&gt; | sample_var &lt;dbl&gt; | n &lt;int&gt; |\n",
       "|---|---|---|---|\n",
       "| no  |  9.409091 | 20.12238 |  66 |\n",
       "| yes | 10.617021 | 20.98093 | 329 |\n",
       "\n"
      ],
      "text/plain": [
       "  internet sample_mean sample_var n  \n",
       "1 no        9.409091   20.12238    66\n",
       "2 yes      10.617021   20.98093   329"
      ]
     },
     "metadata": {},
     "output_type": "display_data"
    }
   ],
   "source": [
    "\"Figure 7\"\n",
    "internet_summary <- \n",
    "    data %>% \n",
    "    group_by(internet) %>% \n",
    "    summarise(sample_mean = mean(final_grade), \n",
    "              sample_var = var(final_grade), \n",
    "              n = n())\n",
    "internet_summary"
   ]
  },
  {
   "cell_type": "markdown",
   "id": "4e017cf7-2c8f-45b4-82aa-23d20ea9593f",
   "metadata": {},
   "source": [
    "Now let's use our formula to calculate the confidence interval."
   ]
  },
  {
   "cell_type": "code",
   "execution_count": 15,
   "id": "e5335732-df83-4f2a-801a-93fd0fe64d26",
   "metadata": {},
   "outputs": [
    {
     "data": {
      "text/html": [
       "'Figure 8'"
      ],
      "text/latex": [
       "'Figure 8'"
      ],
      "text/markdown": [
       "'Figure 8'"
      ],
      "text/plain": [
       "[1] \"Figure 8\""
      ]
     },
     "metadata": {},
     "output_type": "display_data"
    },
    {
     "data": {
      "text/html": [
       "<table class=\"dataframe\">\n",
       "<caption>A tibble: 1 × 2</caption>\n",
       "<thead>\n",
       "\t<tr><th scope=col>lower_ci</th><th scope=col>upper_ci</th></tr>\n",
       "\t<tr><th scope=col>&lt;dbl&gt;</th><th scope=col>&lt;dbl&gt;</th></tr>\n",
       "</thead>\n",
       "<tbody>\n",
       "\t<tr><td>0.1993059</td><td>Inf</td></tr>\n",
       "</tbody>\n",
       "</table>\n"
      ],
      "text/latex": [
       "A tibble: 1 × 2\n",
       "\\begin{tabular}{ll}\n",
       " lower\\_ci & upper\\_ci\\\\\n",
       " <dbl> & <dbl>\\\\\n",
       "\\hline\n",
       "\t 0.1993059 & Inf\\\\\n",
       "\\end{tabular}\n"
      ],
      "text/markdown": [
       "\n",
       "A tibble: 1 × 2\n",
       "\n",
       "| lower_ci &lt;dbl&gt; | upper_ci &lt;dbl&gt; |\n",
       "|---|---|\n",
       "| 0.1993059 | Inf |\n",
       "\n"
      ],
      "text/plain": [
       "  lower_ci  upper_ci\n",
       "1 0.1993059 Inf     "
      ]
     },
     "metadata": {},
     "output_type": "display_data"
    }
   ],
   "source": [
    "diff <- internet_summary$sample_mean[2] - internet_summary$sample_mean[1]\n",
    "\n",
    "se <- sqrt(internet_summary$sample_var[2]/internet_summary$n[2] + \n",
    "     internet_summary$sample_var[1]/internet_summary$n[1])\n",
    "\n",
    "var1<-internet_summary$sample_var[1]\n",
    "var2<-internet_summary$sample_var[2]\n",
    "n1 <- internet_summary$n[1]\n",
    "n2<- internet_summary$n[2]\n",
    "\n",
    "df <- (var2/n2 + var1/n1)^2/(var1^2/((n1^2)*(n1-1)) + var2^2/((n2^2)*(n2-1)))\n",
    "\n",
    "ci <- tibble(lower_ci = diff + qt(0.05, df)*se,\n",
    "             upper_ci = diff + qt(1, df)*se)\n",
    "\"Figure 8\"\n",
    "ci"
   ]
  },
  {
   "cell_type": "markdown",
   "id": "03d0398a-fa34-4504-9393-dfbf42937439",
   "metadata": {},
   "source": [
    "This confidence interval is fairly similar to the one we got using bootstrapping. As it is also a 95% confidence interval, it has the same interpretation. We are 95% confident that the true difference in mean final grades lies within this interval. "
   ]
  },
  {
   "cell_type": "markdown",
   "id": "15364011-942d-47bc-a2dc-631dac43c284",
   "metadata": {},
   "source": [
    "It's worth noting that the null hypothesis value of 0 does fall within our first confidence interval, but not the second."
   ]
  },
  {
   "cell_type": "markdown",
   "id": "8b9613b6-e7e2-46cf-b748-423b1df54e90",
   "metadata": {},
   "source": [
    "### Permute Hypothesis Test"
   ]
  },
  {
   "cell_type": "markdown",
   "id": "34a228a4-4599-4dc1-8ba4-7cb525332a4c",
   "metadata": {},
   "source": [
    "Now we will conduct a permute hypothesis test. This code is quite similar to the one we used to create the bootstrap distribution. The differences are that now we introduce the null hypothesis and we use permutations instead of bootstrapping which is more suitable for hypothesis testing."
   ]
  },
  {
   "cell_type": "code",
   "execution_count": 45,
   "id": "8d53d1fe-5bff-42ac-8496-e1676547c780",
   "metadata": {},
   "outputs": [
    {
     "data": {
      "image/png": "[encoded data removed]",
      "text/plain": [
       "plot without title"
      ]
     },
     "metadata": {
      "image/png": {
       "height": 420,
       "width": 420
      }
     },
     "output_type": "display_data"
    }
   ],
   "source": [
    "set.seed(1)\n",
    "\n",
    "null_distribution <- data %>% \n",
    "  specify(formula = final_grade ~ internet) %>%   \n",
    "  hypothesize(null = \"independence\") %>%\n",
    "  generate(reps = 1000, type = \"permute\") %>% \n",
    "  calculate(stat = \"diff in means\", order = c(\"yes\", \"no\"))\n",
    "\n",
    "perm_plot <- visualize(null_distribution)  +\n",
    "theme(text = element_text(size = 18)) +\n",
    "ggtitle(\"Figure 9: Null Distribution\") +\n",
    "xlab(\"Difference in Mean Final Grades\") +\n",
    "ylab(\"Count\")\n",
    "\n",
    "perm_plot "
   ]
  },
  {
   "cell_type": "markdown",
   "id": "9d2fdc4d-ecef-4bcd-a888-ffff992b0fa7",
   "metadata": {},
   "source": [
    "We can notice that unlike our bootstrap distribution, our null distribution is centered on 0."
   ]
  },
  {
   "cell_type": "markdown",
   "id": "5ebb8090-c31e-4f20-be50-7f65768b7bb0",
   "metadata": {},
   "source": [
    "Now we will visualize our p-value."
   ]
  },
  {
   "cell_type": "code",
   "execution_count": 51,
   "id": "36a7161c-2262-4e39-b117-af92ba44b0d8",
   "metadata": {},
   "outputs": [
    {
     "data": {
      "image/png": "[encoded data removed]",
      "text/plain": [
       "plot without title"
      ]
     },
     "metadata": {
      "image/png": {
       "height": 420,
       "width": 420
      }
     },
     "output_type": "display_data"
    }
   ],
   "source": [
    "perm_p_plot <- visualize(null_distribution)  +\n",
    "theme(text = element_text(size = 17)) +\n",
    "ggtitle(\"Figure 10: Null Distribution with Shaded P-Value\") +\n",
    "xlab(\"Difference in Mean Final Grades\") +\n",
    "ylab(\"Count\") +\n",
    "shade_p_value(obs_stat = obs_diff_mean, direction = \"right\")\n",
    "\n",
    "perm_p_plot"
   ]
  },
  {
   "cell_type": "markdown",
   "id": "d4f2c614-9785-44fb-bb36-c4b8cad6890d",
   "metadata": {},
   "source": [
    "And we will calculate the p-value."
   ]
  },
  {
   "cell_type": "code",
   "execution_count": 52,
   "id": "84e5d800-3ac1-4f8c-9a99-23d8410ca478",
   "metadata": {},
   "outputs": [
    {
     "data": {
      "text/html": [
       "'Figure 11'"
      ],
      "text/latex": [
       "'Figure 11'"
      ],
      "text/markdown": [
       "'Figure 11'"
      ],
      "text/plain": [
       "[1] \"Figure 11\""
      ]
     },
     "metadata": {},
     "output_type": "display_data"
    },
    {
     "data": {
      "text/html": [
       "<table class=\"dataframe\">\n",
       "<caption>A tibble: 1 × 1</caption>\n",
       "<thead>\n",
       "\t<tr><th scope=col>p_value</th></tr>\n",
       "\t<tr><th scope=col>&lt;dbl&gt;</th></tr>\n",
       "</thead>\n",
       "<tbody>\n",
       "\t<tr><td>0.029</td></tr>\n",
       "</tbody>\n",
       "</table>\n"
      ],
      "text/latex": [
       "A tibble: 1 × 1\n",
       "\\begin{tabular}{l}\n",
       " p\\_value\\\\\n",
       " <dbl>\\\\\n",
       "\\hline\n",
       "\t 0.029\\\\\n",
       "\\end{tabular}\n"
      ],
      "text/markdown": [
       "\n",
       "A tibble: 1 × 1\n",
       "\n",
       "| p_value &lt;dbl&gt; |\n",
       "|---|\n",
       "| 0.029 |\n",
       "\n"
      ],
      "text/plain": [
       "  p_value\n",
       "1 0.029  "
      ]
     },
     "metadata": {},
     "output_type": "display_data"
    }
   ],
   "source": [
    "p_value <- null_distribution %>%\n",
    "get_p_value(obs_stat = obs_diff_mean, direction = \"right\")\n",
    "\"Figure 11\"\n",
    "p_value"
   ]
  },
  {
   "cell_type": "markdown",
   "id": "da05d059-9025-4aed-ad2c-eeb805522e82",
   "metadata": {},
   "source": [
    "Our p-value from the permutation test is 0.029. This is below our significance level of 0.05. Therefore, we reject our null hypothesis and conclude that there is evidence suggesting an association between access to internet at home and mean final math grades."
   ]
  },
  {
   "cell_type": "markdown",
   "id": "9a516ee3-8a90-405e-aeba-3216b039cacf",
   "metadata": {
    "tags": []
   },
   "source": [
    "### Two-Sample T-Test"
   ]
  },
  {
   "cell_type": "markdown",
   "id": "4b1bcf19-6b35-4a1a-bfb7-c9a4d368448d",
   "metadata": {},
   "source": [
    "Finally we will conduct a two-sample t-test."
   ]
  },
  {
   "cell_type": "code",
   "execution_count": 37,
   "id": "5615c488-7ad1-4805-bbbc-e20aa40c940c",
   "metadata": {},
   "outputs": [
    {
     "data": {
      "text/html": [
       "'Figure 12'"
      ],
      "text/latex": [
       "'Figure 12'"
      ],
      "text/markdown": [
       "'Figure 12'"
      ],
      "text/plain": [
       "[1] \"Figure 12\""
      ]
     },
     "metadata": {},
     "output_type": "display_data"
    },
    {
     "data": {
      "text/html": [
       "<table class=\"dataframe\">\n",
       "<caption>A tibble: 1 × 10</caption>\n",
       "<thead>\n",
       "\t<tr><th scope=col>estimate</th><th scope=col>estimate1</th><th scope=col>estimate2</th><th scope=col>statistic</th><th scope=col>p.value</th><th scope=col>parameter</th><th scope=col>conf.low</th><th scope=col>conf.high</th><th scope=col>method</th><th scope=col>alternative</th></tr>\n",
       "\t<tr><th scope=col>&lt;dbl&gt;</th><th scope=col>&lt;dbl&gt;</th><th scope=col>&lt;dbl&gt;</th><th scope=col>&lt;dbl&gt;</th><th scope=col>&lt;dbl&gt;</th><th scope=col>&lt;dbl&gt;</th><th scope=col>&lt;dbl&gt;</th><th scope=col>&lt;dbl&gt;</th><th scope=col>&lt;chr&gt;</th><th scope=col>&lt;chr&gt;</th></tr>\n",
       "</thead>\n",
       "<tbody>\n",
       "\t<tr><td>1.20793</td><td>10.61702</td><td>9.409091</td><td>1.989441</td><td>0.02477601</td><td>94.21865</td><td>0.1993059</td><td>Inf</td><td>Welch Two Sample t-test</td><td>greater</td></tr>\n",
       "</tbody>\n",
       "</table>\n"
      ],
      "text/latex": [
       "A tibble: 1 × 10\n",
       "\\begin{tabular}{llllllllll}\n",
       " estimate & estimate1 & estimate2 & statistic & p.value & parameter & conf.low & conf.high & method & alternative\\\\\n",
       " <dbl> & <dbl> & <dbl> & <dbl> & <dbl> & <dbl> & <dbl> & <dbl> & <chr> & <chr>\\\\\n",
       "\\hline\n",
       "\t 1.20793 & 10.61702 & 9.409091 & 1.989441 & 0.02477601 & 94.21865 & 0.1993059 & Inf & Welch Two Sample t-test & greater\\\\\n",
       "\\end{tabular}\n"
      ],
      "text/markdown": [
       "\n",
       "A tibble: 1 × 10\n",
       "\n",
       "| estimate &lt;dbl&gt; | estimate1 &lt;dbl&gt; | estimate2 &lt;dbl&gt; | statistic &lt;dbl&gt; | p.value &lt;dbl&gt; | parameter &lt;dbl&gt; | conf.low &lt;dbl&gt; | conf.high &lt;dbl&gt; | method &lt;chr&gt; | alternative &lt;chr&gt; |\n",
       "|---|---|---|---|---|---|---|---|---|---|\n",
       "| 1.20793 | 10.61702 | 9.409091 | 1.989441 | 0.02477601 | 94.21865 | 0.1993059 | Inf | Welch Two Sample t-test | greater |\n",
       "\n"
      ],
      "text/plain": [
       "  estimate estimate1 estimate2 statistic p.value    parameter conf.low \n",
       "1 1.20793  10.61702  9.409091  1.989441  0.02477601 94.21865  0.1993059\n",
       "  conf.high method                  alternative\n",
       "1 Inf       Welch Two Sample t-test greater    "
      ]
     },
     "metadata": {},
     "output_type": "display_data"
    }
   ],
   "source": [
    "model <- t.test(data %>% filter(internet == \"yes\") %>% pull(final_grade),\n",
    "                data %>% filter(internet == \"no\") %>% pull(final_grade),\n",
    "                alternative = \"greater\")\n",
    "\"Figure 12\"\n",
    "tidy(model)"
   ]
  },
  {
   "cell_type": "markdown",
   "id": "afa78541-c9e8-427f-84ac-ba6f4be9c026",
   "metadata": {},
   "source": [
    "TODO: Breifly talk about the other values in the table"
   ]
  },
  {
   "cell_type": "markdown",
   "id": "627f36d4-011d-4eea-a95f-2f1ea00f5638",
   "metadata": {},
   "source": [
    "TODO: Maybe calculate degrees of freedom with formula"
   ]
  },
  {
   "cell_type": "markdown",
   "id": "25b2d86e-a868-4399-9bcf-c037e52f4ccd",
   "metadata": {},
   "source": [
    "Our p-value from the permutation test is 0.025. This p-value is also below our significance level of 0.05. Therefore, again, we reject our null hypothesis and conclude that there is evidence suggesting an association between access to internet at home and mean final math grades."
   ]
  },
  {
   "cell_type": "markdown",
   "id": "37e35333-794b-42c2-8235-94965073c4b9",
   "metadata": {},
   "source": [
    "## Discussion"
   ]
  },
  {
   "cell_type": "markdown",
   "id": "5bf40e71-dc8e-4765-80d8-e8391077c0ea",
   "metadata": {},
   "source": [
    "    \n",
    "These findings could inform education decision-makers as to the best ways to support their students and improve overall scores. Specifically, governments should invest in providing students with internet access outside of school hours and at home. \n",
    "    \n",
    "Because this research looks at how technology enables education to continue at home, we might ask more questions about these environments and how they impact students. For example, we might ask if students with their own device(s) perform better than students who share devices with their family. Also, we might ask if students whose guardians have high technology and internet literacy perform better than students whose guardians do not. Like our research, these findings might inform government education spending and investments in technology for students.\n",
    "\n",
    "\n"
   ]
  },
  {
   "cell_type": "markdown",
   "id": "1b307a60-2af2-4083-bf07-627d274dbd14",
   "metadata": {},
   "source": [
    "## References"
   ]
  },
  {
   "cell_type": "markdown",
   "id": "7aee531b-be47-45be-bf63-b709c9b926f5",
   "metadata": {},
   "source": [
    "Austin, W., & Totaro, M. W. (2011). High school students academic performance and internet usage. *Journal of Economics and Economic Education Research, 12*(1), 41–54.\n"
   ]
  },
  {
   "cell_type": "markdown",
   "id": "b42e3a6f-d510-4c90-8c0f-c6b5da5e14d7",
   "metadata": {
    "tags": []
   },
   "source": [
    "Cortez, P., & Silva, A. M. G. (2008). Using Data Mining to Predict Secondary School Student Performance. *In A. Brito, & J. Teixeira (Eds.), Proceedings of 5th Annual Future Business Technology Conference, Porto*, 5-12.\n",
    "\n"
   ]
  },
  {
   "cell_type": "markdown",
   "id": "41c93751-dfe1-4090-aa6d-36bce354ae5e",
   "metadata": {},
   "source": [
    "Sampath Kumar, B. T., & Manjunath, G. (2013). Internet use and its impact on the academic performance of university teachers and researchers: A comparative study. *Emerald Journal of Higher Education, Skills and Work-Based Learning, 3*(3), 219–238."
   ]
  }
 ],
 "metadata": {
  "kernelspec": {
   "display_name": "R",
   "language": "R",
   "name": "ir"
  },
  "language_info": {
   "codemirror_mode": "r",
   "file_extension": ".r",
   "mimetype": "text/x-r-source",
   "name": "R",
   "pygments_lexer": "r",
   "version": "4.1.2"
  }
 },
 "nbformat": 4,
 "nbformat_minor": 5
}
