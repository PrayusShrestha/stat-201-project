{
 "cells": [
  {
   "cell_type": "markdown",
   "id": "54494aee-0341-40c3-a316-d9c783b9cecd",
   "metadata": {},
   "source": [
    "# Impact of Internet Access on Student Performance"
   ]
  },
  {
   "cell_type": "markdown",
   "id": "heavy-secret",
   "metadata": {},
   "source": [
    "## Introduction"
   ]
  },
  {
   "cell_type": "markdown",
   "id": "6eaafbdf-4b14-477b-af04-a9f4a45f3eaf",
   "metadata": {},
   "source": [
    "One way to measure a student’s math ability is their final class grade. Different factors can influence this final grade. We propose studying how internet access at home may impact students' final grade, with our population being all students. Our question is the following: \n",
    "\n",
    "**Do students with internet access at home have higher mean final math grades than students without internet access at home?**\n",
    "\n",
    "There are a few reasons why we chose this topic. For one, we wanted our question to involve students as it makes this project personal and relevant, and therefore more interesting to us. This question is also relevant due to the prevalence of wifi-requiring tools used in education today. \n",
    "\n",
    "Our location parameter is the mean final grade, and our scale parameter is the standard deviation. The range of our response variable is small (0 to 20) and therefore outliers won't be overly influential on the mean and standard deviation. "
   ]
  },
  {
   "cell_type": "markdown",
   "id": "ceb1aff3-7b31-41ea-a10d-2381f081841f",
   "metadata": {
    "tags": []
   },
   "source": [
    "## Description of the Data Set"
   ]
  },
  {
   "cell_type": "markdown",
   "id": "115bfad7-69a1-4b27-9013-67a1ec5d8299",
   "metadata": {},
   "source": [
    "The sample we use is from the The Student Performance Data Set, created by two researchers, Paulo Cortez and Alice Silva, in 2008. They obtained the performance of secondary students from 2 Portuguese schools in math by collecting school reports and questionnaires to create a data set that consists of 33 columns with 395 rows that correspond to the number of students that participated in the study.  \n",
    "\n",
    "Previous studies have shown that the internet has led to an increase in grades if used optimally (Austin & Totaro, 2011) and that the majority of teachers are now using the internet as a teaching and learning tool (Sampath & Manjunath, 2013). Therefore, we are interested in analyzing the impact of internet access at home to students' final grade. \n",
    "\n",
    "We will be using the internet column as our explanatory variable and the G3 attribute as our response variable. The internet column is a binary variable that describes whether or not the student has internet access at home. The G3 column describes the final year Mathematics grade of the student (from 0-20). While this data is technically discrete, it can take on more values than typical discerete variables. As well, these values are more closely correlated to a measurement than a classification because we use them to represent a student's score across the range 0-21 (similar to how we would assign a percentage grade 0-100%). For the purposes of this report, we will treat G3 as quantitative. \n",
    "\n",
    "In order to prove that this report is trustworthy, we must assess the quality of the data we are using. We can say that our data is *relatively* unbiased. Because it was collected using a survey, students from all backgrounds had equal opportunity to participate. However, we must also acknowledge other factors that may infuence our data. For example, students with internet access may come from higher income families who can offer them academic reasources lower-income families don't have access to. These factors may account for some of grade disparities we see in our analysis, irregardless of internet access. As well, we have defined our population to be the set of all students, while our data only represents students from 2 Portugese schools. Though we are generalizing our results to the whole population, we must keep in mind this limitation."
   ]
  },
  {
   "cell_type": "markdown",
   "id": "compact-bunch",
   "metadata": {},
   "source": [
    "## Preliminary Analysis"
   ]
  },
  {
   "cell_type": "code",
   "execution_count": 2,
   "id": "normal-kernel",
   "metadata": {},
   "outputs": [
    {
     "name": "stderr",
     "output_type": "stream",
     "text": [
      "── \u001b[1mAttaching packages\u001b[22m ─────────────────────────────────────── tidyverse 1.3.0 ──\n",
      "\n",
      "\u001b[32m✔\u001b[39m \u001b[34mggplot2\u001b[39m 3.3.3     \u001b[32m✔\u001b[39m \u001b[34mpurrr  \u001b[39m 0.3.4\n",
      "\u001b[32m✔\u001b[39m \u001b[34mtibble \u001b[39m 3.0.6     \u001b[32m✔\u001b[39m \u001b[34mdplyr  \u001b[39m 1.0.4\n",
      "\u001b[32m✔\u001b[39m \u001b[34mtidyr  \u001b[39m 1.1.2     \u001b[32m✔\u001b[39m \u001b[34mstringr\u001b[39m 1.4.0\n",
      "\u001b[32m✔\u001b[39m \u001b[34mreadr  \u001b[39m 1.4.0     \u001b[32m✔\u001b[39m \u001b[34mforcats\u001b[39m 0.5.1\n",
      "\n",
      "── \u001b[1mConflicts\u001b[22m ────────────────────────────────────────── tidyverse_conflicts() ──\n",
      "\u001b[31m✖\u001b[39m \u001b[34mdplyr\u001b[39m::\u001b[32mfilter()\u001b[39m masks \u001b[34mstats\u001b[39m::filter()\n",
      "\u001b[31m✖\u001b[39m \u001b[34mdplyr\u001b[39m::\u001b[32mlag()\u001b[39m    masks \u001b[34mstats\u001b[39m::lag()\n",
      "\n"
     ]
    }
   ],
   "source": [
    "# Loading needed libraries\n",
    "library(tidyverse)\n",
    "library(cowplot)\n",
    "library(infer)\n",
    "library(broom)"
   ]
  },
  {
   "cell_type": "code",
   "execution_count": 3,
   "id": "elect-upgrade",
   "metadata": {},
   "outputs": [
    {
     "name": "stderr",
     "output_type": "stream",
     "text": [
      "\n",
      "\u001b[36m──\u001b[39m \u001b[1m\u001b[1mColumn specification\u001b[1m\u001b[22m \u001b[36m────────────────────────────────────────────────────────\u001b[39m\n",
      "cols(\n",
      "  .default = col_character(),\n",
      "  age = \u001b[32mcol_double()\u001b[39m,\n",
      "  Medu = \u001b[32mcol_double()\u001b[39m,\n",
      "  Fedu = \u001b[32mcol_double()\u001b[39m,\n",
      "  traveltime = \u001b[32mcol_double()\u001b[39m,\n",
      "  studytime = \u001b[32mcol_double()\u001b[39m,\n",
      "  failures = \u001b[32mcol_double()\u001b[39m,\n",
      "  famrel = \u001b[32mcol_double()\u001b[39m,\n",
      "  freetime = \u001b[32mcol_double()\u001b[39m,\n",
      "  goout = \u001b[32mcol_double()\u001b[39m,\n",
      "  Dalc = \u001b[32mcol_double()\u001b[39m,\n",
      "  Walc = \u001b[32mcol_double()\u001b[39m,\n",
      "  health = \u001b[32mcol_double()\u001b[39m,\n",
      "  absences = \u001b[32mcol_double()\u001b[39m,\n",
      "  G1 = \u001b[32mcol_double()\u001b[39m,\n",
      "  G2 = \u001b[32mcol_double()\u001b[39m,\n",
      "  G3 = \u001b[32mcol_double()\u001b[39m\n",
      ")\n",
      "\u001b[36mℹ\u001b[39m Use \u001b[30m\u001b[47m\u001b[30m\u001b[47m`spec()`\u001b[47m\u001b[30m\u001b[49m\u001b[39m for the full column specifications.\n",
      "\n",
      "\n"
     ]
    },
    {
     "data": {
      "text/html": [
       "'Table 1: Raw Data'"
      ],
      "text/latex": [
       "'Table 1: Raw Data'"
      ],
      "text/markdown": [
       "'Table 1: Raw Data'"
      ],
      "text/plain": [
       "[1] \"Table 1: Raw Data\""
      ]
     },
     "metadata": {},
     "output_type": "display_data"
    },
    {
     "data": {
      "text/html": [
       "<table class=\"dataframe\">\n",
       "<caption>A tibble: 6 × 33</caption>\n",
       "<thead>\n",
       "\t<tr><th scope=col>school</th><th scope=col>sex</th><th scope=col>age</th><th scope=col>address</th><th scope=col>famsize</th><th scope=col>Pstatus</th><th scope=col>Medu</th><th scope=col>Fedu</th><th scope=col>Mjob</th><th scope=col>Fjob</th><th scope=col>⋯</th><th scope=col>famrel</th><th scope=col>freetime</th><th scope=col>goout</th><th scope=col>Dalc</th><th scope=col>Walc</th><th scope=col>health</th><th scope=col>absences</th><th scope=col>G1</th><th scope=col>G2</th><th scope=col>G3</th></tr>\n",
       "\t<tr><th scope=col>&lt;chr&gt;</th><th scope=col>&lt;chr&gt;</th><th scope=col>&lt;dbl&gt;</th><th scope=col>&lt;chr&gt;</th><th scope=col>&lt;chr&gt;</th><th scope=col>&lt;chr&gt;</th><th scope=col>&lt;dbl&gt;</th><th scope=col>&lt;dbl&gt;</th><th scope=col>&lt;chr&gt;</th><th scope=col>&lt;chr&gt;</th><th scope=col>⋯</th><th scope=col>&lt;dbl&gt;</th><th scope=col>&lt;dbl&gt;</th><th scope=col>&lt;dbl&gt;</th><th scope=col>&lt;dbl&gt;</th><th scope=col>&lt;dbl&gt;</th><th scope=col>&lt;dbl&gt;</th><th scope=col>&lt;dbl&gt;</th><th scope=col>&lt;dbl&gt;</th><th scope=col>&lt;dbl&gt;</th><th scope=col>&lt;dbl&gt;</th></tr>\n",
       "</thead>\n",
       "<tbody>\n",
       "\t<tr><td>GP</td><td>F</td><td>18</td><td>U</td><td>GT3</td><td>A</td><td>4</td><td>4</td><td>at_home </td><td>teacher </td><td>⋯</td><td>4</td><td>3</td><td>4</td><td>1</td><td>1</td><td>3</td><td> 6</td><td> 5</td><td> 6</td><td> 6</td></tr>\n",
       "\t<tr><td>GP</td><td>F</td><td>17</td><td>U</td><td>GT3</td><td>T</td><td>1</td><td>1</td><td>at_home </td><td>other   </td><td>⋯</td><td>5</td><td>3</td><td>3</td><td>1</td><td>1</td><td>3</td><td> 4</td><td> 5</td><td> 5</td><td> 6</td></tr>\n",
       "\t<tr><td>GP</td><td>F</td><td>15</td><td>U</td><td>LE3</td><td>T</td><td>1</td><td>1</td><td>at_home </td><td>other   </td><td>⋯</td><td>4</td><td>3</td><td>2</td><td>2</td><td>3</td><td>3</td><td>10</td><td> 7</td><td> 8</td><td>10</td></tr>\n",
       "\t<tr><td>GP</td><td>F</td><td>15</td><td>U</td><td>GT3</td><td>T</td><td>4</td><td>2</td><td>health  </td><td>services</td><td>⋯</td><td>3</td><td>2</td><td>2</td><td>1</td><td>1</td><td>5</td><td> 2</td><td>15</td><td>14</td><td>15</td></tr>\n",
       "\t<tr><td>GP</td><td>F</td><td>16</td><td>U</td><td>GT3</td><td>T</td><td>3</td><td>3</td><td>other   </td><td>other   </td><td>⋯</td><td>4</td><td>3</td><td>2</td><td>1</td><td>2</td><td>5</td><td> 4</td><td> 6</td><td>10</td><td>10</td></tr>\n",
       "\t<tr><td>GP</td><td>M</td><td>16</td><td>U</td><td>LE3</td><td>T</td><td>4</td><td>3</td><td>services</td><td>other   </td><td>⋯</td><td>5</td><td>4</td><td>2</td><td>1</td><td>2</td><td>5</td><td>10</td><td>15</td><td>15</td><td>15</td></tr>\n",
       "</tbody>\n",
       "</table>\n"
      ],
      "text/latex": [
       "A tibble: 6 × 33\n",
       "\\begin{tabular}{lllllllllllllllllllll}\n",
       " school & sex & age & address & famsize & Pstatus & Medu & Fedu & Mjob & Fjob & ⋯ & famrel & freetime & goout & Dalc & Walc & health & absences & G1 & G2 & G3\\\\\n",
       " <chr> & <chr> & <dbl> & <chr> & <chr> & <chr> & <dbl> & <dbl> & <chr> & <chr> & ⋯ & <dbl> & <dbl> & <dbl> & <dbl> & <dbl> & <dbl> & <dbl> & <dbl> & <dbl> & <dbl>\\\\\n",
       "\\hline\n",
       "\t GP & F & 18 & U & GT3 & A & 4 & 4 & at\\_home  & teacher  & ⋯ & 4 & 3 & 4 & 1 & 1 & 3 &  6 &  5 &  6 &  6\\\\\n",
       "\t GP & F & 17 & U & GT3 & T & 1 & 1 & at\\_home  & other    & ⋯ & 5 & 3 & 3 & 1 & 1 & 3 &  4 &  5 &  5 &  6\\\\\n",
       "\t GP & F & 15 & U & LE3 & T & 1 & 1 & at\\_home  & other    & ⋯ & 4 & 3 & 2 & 2 & 3 & 3 & 10 &  7 &  8 & 10\\\\\n",
       "\t GP & F & 15 & U & GT3 & T & 4 & 2 & health   & services & ⋯ & 3 & 2 & 2 & 1 & 1 & 5 &  2 & 15 & 14 & 15\\\\\n",
       "\t GP & F & 16 & U & GT3 & T & 3 & 3 & other    & other    & ⋯ & 4 & 3 & 2 & 1 & 2 & 5 &  4 &  6 & 10 & 10\\\\\n",
       "\t GP & M & 16 & U & LE3 & T & 4 & 3 & services & other    & ⋯ & 5 & 4 & 2 & 1 & 2 & 5 & 10 & 15 & 15 & 15\\\\\n",
       "\\end{tabular}\n"
      ],
      "text/markdown": [
       "\n",
       "A tibble: 6 × 33\n",
       "\n",
       "| school &lt;chr&gt; | sex &lt;chr&gt; | age &lt;dbl&gt; | address &lt;chr&gt; | famsize &lt;chr&gt; | Pstatus &lt;chr&gt; | Medu &lt;dbl&gt; | Fedu &lt;dbl&gt; | Mjob &lt;chr&gt; | Fjob &lt;chr&gt; | ⋯ ⋯ | famrel &lt;dbl&gt; | freetime &lt;dbl&gt; | goout &lt;dbl&gt; | Dalc &lt;dbl&gt; | Walc &lt;dbl&gt; | health &lt;dbl&gt; | absences &lt;dbl&gt; | G1 &lt;dbl&gt; | G2 &lt;dbl&gt; | G3 &lt;dbl&gt; |\n",
       "|---|---|---|---|---|---|---|---|---|---|---|---|---|---|---|---|---|---|---|---|---|\n",
       "| GP | F | 18 | U | GT3 | A | 4 | 4 | at_home  | teacher  | ⋯ | 4 | 3 | 4 | 1 | 1 | 3 |  6 |  5 |  6 |  6 |\n",
       "| GP | F | 17 | U | GT3 | T | 1 | 1 | at_home  | other    | ⋯ | 5 | 3 | 3 | 1 | 1 | 3 |  4 |  5 |  5 |  6 |\n",
       "| GP | F | 15 | U | LE3 | T | 1 | 1 | at_home  | other    | ⋯ | 4 | 3 | 2 | 2 | 3 | 3 | 10 |  7 |  8 | 10 |\n",
       "| GP | F | 15 | U | GT3 | T | 4 | 2 | health   | services | ⋯ | 3 | 2 | 2 | 1 | 1 | 5 |  2 | 15 | 14 | 15 |\n",
       "| GP | F | 16 | U | GT3 | T | 3 | 3 | other    | other    | ⋯ | 4 | 3 | 2 | 1 | 2 | 5 |  4 |  6 | 10 | 10 |\n",
       "| GP | M | 16 | U | LE3 | T | 4 | 3 | services | other    | ⋯ | 5 | 4 | 2 | 1 | 2 | 5 | 10 | 15 | 15 | 15 |\n",
       "\n"
      ],
      "text/plain": [
       "  school sex age address famsize Pstatus Medu Fedu Mjob     Fjob     ⋯ famrel\n",
       "1 GP     F   18  U       GT3     A       4    4    at_home  teacher  ⋯ 4     \n",
       "2 GP     F   17  U       GT3     T       1    1    at_home  other    ⋯ 5     \n",
       "3 GP     F   15  U       LE3     T       1    1    at_home  other    ⋯ 4     \n",
       "4 GP     F   15  U       GT3     T       4    2    health   services ⋯ 3     \n",
       "5 GP     F   16  U       GT3     T       3    3    other    other    ⋯ 4     \n",
       "6 GP     M   16  U       LE3     T       4    3    services other    ⋯ 5     \n",
       "  freetime goout Dalc Walc health absences G1 G2 G3\n",
       "1 3        4     1    1    3       6        5  6  6\n",
       "2 3        3     1    1    3       4        5  5  6\n",
       "3 3        2     2    3    3      10        7  8 10\n",
       "4 2        2     1    1    5       2       15 14 15\n",
       "5 3        2     1    2    5       4        6 10 10\n",
       "6 4        2     1    2    5      10       15 15 15"
      ]
     },
     "metadata": {},
     "output_type": "display_data"
    }
   ],
   "source": [
    "# Reading the data from our GitHub repository \n",
    "url <- \"https://raw.githubusercontent.com/PrayusShrestha/stat-201-project/main/data/student-mat.csv\"\n",
    "raw_data <- read_delim(url, delim = \";\")\n",
    "\"Table 1: Raw Data\"\n",
    "head(raw_data)"
   ]
  },
  {
   "cell_type": "markdown",
   "id": "active-concrete",
   "metadata": {},
   "source": [
    "From the tibble above, we see that the raw data we read is already in a tidy format. Each row is an observation, each column is a variable, and each cell is a value (Data Science: A First Introduction). Over the next few code cells, we will be renaming columns to be more readable (`G3` becomes `final_grade`), selecting the relevant columns (`internet` and `final_grade`) and checking if null values exist (and dealing with them if they do). We will then check the count of students with and without internet access. Finally, we will calculate summary statistics. "
   ]
  },
  {
   "cell_type": "code",
   "execution_count": 4,
   "id": "brazilian-sydney",
   "metadata": {},
   "outputs": [
    {
     "data": {
      "text/html": [
       "'Table 2: Relevent Columns'"
      ],
      "text/latex": [
       "'Table 2: Relevent Columns'"
      ],
      "text/markdown": [
       "'Table 2: Relevent Columns'"
      ],
      "text/plain": [
       "[1] \"Table 2: Relevent Columns\""
      ]
     },
     "metadata": {},
     "output_type": "display_data"
    },
    {
     "data": {
      "text/html": [
       "<table class=\"dataframe\">\n",
       "<caption>A tibble: 6 × 2</caption>\n",
       "<thead>\n",
       "\t<tr><th scope=col>internet</th><th scope=col>final_grade</th></tr>\n",
       "\t<tr><th scope=col>&lt;chr&gt;</th><th scope=col>&lt;dbl&gt;</th></tr>\n",
       "</thead>\n",
       "<tbody>\n",
       "\t<tr><td>no </td><td> 6</td></tr>\n",
       "\t<tr><td>yes</td><td> 6</td></tr>\n",
       "\t<tr><td>yes</td><td>10</td></tr>\n",
       "\t<tr><td>yes</td><td>15</td></tr>\n",
       "\t<tr><td>no </td><td>10</td></tr>\n",
       "\t<tr><td>yes</td><td>15</td></tr>\n",
       "</tbody>\n",
       "</table>\n"
      ],
      "text/latex": [
       "A tibble: 6 × 2\n",
       "\\begin{tabular}{ll}\n",
       " internet & final\\_grade\\\\\n",
       " <chr> & <dbl>\\\\\n",
       "\\hline\n",
       "\t no  &  6\\\\\n",
       "\t yes &  6\\\\\n",
       "\t yes & 10\\\\\n",
       "\t yes & 15\\\\\n",
       "\t no  & 10\\\\\n",
       "\t yes & 15\\\\\n",
       "\\end{tabular}\n"
      ],
      "text/markdown": [
       "\n",
       "A tibble: 6 × 2\n",
       "\n",
       "| internet &lt;chr&gt; | final_grade &lt;dbl&gt; |\n",
       "|---|---|\n",
       "| no  |  6 |\n",
       "| yes |  6 |\n",
       "| yes | 10 |\n",
       "| yes | 15 |\n",
       "| no  | 10 |\n",
       "| yes | 15 |\n",
       "\n"
      ],
      "text/plain": [
       "  internet final_grade\n",
       "1 no        6         \n",
       "2 yes       6         \n",
       "3 yes      10         \n",
       "4 yes      15         \n",
       "5 no       10         \n",
       "6 yes      15         "
      ]
     },
     "metadata": {},
     "output_type": "display_data"
    }
   ],
   "source": [
    "# Selecting for just the relevant columns and changing column name to be more human readable\n",
    "data <- raw_data  %>% \n",
    "    mutate(final_grade = G3)  %>% \n",
    "    select(internet, final_grade)\n",
    "\"Table 2: Relevent Columns\"\n",
    "head(data)"
   ]
  },
  {
   "cell_type": "code",
   "execution_count": 5,
   "id": "registered-horror",
   "metadata": {},
   "outputs": [
    {
     "data": {
      "text/html": [
       "0"
      ],
      "text/latex": [
       "0"
      ],
      "text/markdown": [
       "0"
      ],
      "text/plain": [
       "[1] 0"
      ]
     },
     "metadata": {},
     "output_type": "display_data"
    },
    {
     "data": {
      "text/html": [
       "0"
      ],
      "text/latex": [
       "0"
      ],
      "text/markdown": [
       "0"
      ],
      "text/plain": [
       "[1] 0"
      ]
     },
     "metadata": {},
     "output_type": "display_data"
    }
   ],
   "source": [
    "# Checking if any rows have null values \n",
    "num_of_na_internet <- sum(is.na(data$internet))\n",
    "num_of_na_final_grade <- sum(is.na(data$final_grade))\n",
    "\n",
    "num_of_na_internet\n",
    "num_of_na_final_grade"
   ]
  },
  {
   "cell_type": "markdown",
   "id": "developmental-anxiety",
   "metadata": {},
   "source": [
    "From the above, it can be seen there there are no NA values."
   ]
  },
  {
   "cell_type": "code",
   "execution_count": 6,
   "id": "lined-token",
   "metadata": {},
   "outputs": [
    {
     "data": {
      "text/html": [
       "'Table 3: Category Count'"
      ],
      "text/latex": [
       "'Table 3: Category Count'"
      ],
      "text/markdown": [
       "'Table 3: Category Count'"
      ],
      "text/plain": [
       "[1] \"Table 3: Category Count\""
      ]
     },
     "metadata": {},
     "output_type": "display_data"
    },
    {
     "data": {
      "text/html": [
       "<table class=\"dataframe\">\n",
       "<caption>A tibble: 2 × 2</caption>\n",
       "<thead>\n",
       "\t<tr><th></th><th scope=col>internet</th><th scope=col>n</th></tr>\n",
       "\t<tr><th></th><th scope=col>&lt;chr&gt;</th><th scope=col>&lt;int&gt;</th></tr>\n",
       "</thead>\n",
       "<tbody>\n",
       "\t<tr><th scope=row>1</th><td>no </td><td> 66</td></tr>\n",
       "\t<tr><th scope=row>2</th><td>yes</td><td>329</td></tr>\n",
       "</tbody>\n",
       "</table>\n"
      ],
      "text/latex": [
       "A tibble: 2 × 2\n",
       "\\begin{tabular}{r|ll}\n",
       "  & internet & n\\\\\n",
       "  & <chr> & <int>\\\\\n",
       "\\hline\n",
       "\t1 & no  &  66\\\\\n",
       "\t2 & yes & 329\\\\\n",
       "\\end{tabular}\n"
      ],
      "text/markdown": [
       "\n",
       "A tibble: 2 × 2\n",
       "\n",
       "| <!--/--> | internet &lt;chr&gt; | n &lt;int&gt; |\n",
       "|---|---|---|\n",
       "| 1 | no  |  66 |\n",
       "| 2 | yes | 329 |\n",
       "\n"
      ],
      "text/plain": [
       "  internet n  \n",
       "1 no        66\n",
       "2 yes      329"
      ]
     },
     "metadata": {},
     "output_type": "display_data"
    }
   ],
   "source": [
    "# Counting how many of each category (access, or no access, to internet at home) are in the sample \n",
    "internet_access_tally <- data %>%\n",
    "    group_by(internet) %>%\n",
    "    tally()\n",
    "\"Table 3: Category Count\"\n",
    "internet_access_tally"
   ]
  },
  {
   "cell_type": "code",
   "execution_count": 7,
   "id": "shaped-suffering",
   "metadata": {},
   "outputs": [
    {
     "data": {
      "text/html": [
       "'Table 4: Summary Statistics'"
      ],
      "text/latex": [
       "'Table 4: Summary Statistics'"
      ],
      "text/markdown": [
       "'Table 4: Summary Statistics'"
      ],
      "text/plain": [
       "[1] \"Table 4: Summary Statistics\""
      ]
     },
     "metadata": {},
     "output_type": "display_data"
    },
    {
     "data": {
      "text/html": [
       "<table class=\"dataframe\">\n",
       "<caption>A tibble: 2 × 3</caption>\n",
       "<thead>\n",
       "\t<tr><th></th><th scope=col>internet</th><th scope=col>std_dev</th><th scope=col>mean_final_grade</th></tr>\n",
       "\t<tr><th></th><th scope=col>&lt;chr&gt;</th><th scope=col>&lt;dbl&gt;</th><th scope=col>&lt;dbl&gt;</th></tr>\n",
       "</thead>\n",
       "<tbody>\n",
       "\t<tr><th scope=row>1</th><td>no </td><td>4.485797</td><td> 9.409091</td></tr>\n",
       "\t<tr><th scope=row>2</th><td>yes</td><td>4.580494</td><td>10.617021</td></tr>\n",
       "</tbody>\n",
       "</table>\n"
      ],
      "text/latex": [
       "A tibble: 2 × 3\n",
       "\\begin{tabular}{r|lll}\n",
       "  & internet & std\\_dev & mean\\_final\\_grade\\\\\n",
       "  & <chr> & <dbl> & <dbl>\\\\\n",
       "\\hline\n",
       "\t1 & no  & 4.485797 &  9.409091\\\\\n",
       "\t2 & yes & 4.580494 & 10.617021\\\\\n",
       "\\end{tabular}\n"
      ],
      "text/markdown": [
       "\n",
       "A tibble: 2 × 3\n",
       "\n",
       "| <!--/--> | internet &lt;chr&gt; | std_dev &lt;dbl&gt; | mean_final_grade &lt;dbl&gt; |\n",
       "|---|---|---|---|\n",
       "| 1 | no  | 4.485797 |  9.409091 |\n",
       "| 2 | yes | 4.580494 | 10.617021 |\n",
       "\n"
      ],
      "text/plain": [
       "  internet std_dev  mean_final_grade\n",
       "1 no       4.485797  9.409091       \n",
       "2 yes      4.580494 10.617021       "
      ]
     },
     "metadata": {},
     "output_type": "display_data"
    }
   ],
   "source": [
    "# Generating summary statistics (standard deviation and mean)\n",
    "data_summary  <- data  %>% \n",
    "    group_by(internet)  %>% \n",
    "    summarize(std_dev = sd(final_grade),\n",
    "              mean_final_grade = mean(final_grade))\n",
    "\"Table 4: Summary Statistics\"\n",
    "data_summary"
   ]
  },
  {
   "cell_type": "markdown",
   "id": "successful-detroit",
   "metadata": {},
   "source": [
    "The table above shows the mean and standard deviation of final math grades, split by home internet access status. We can see that both groups have a similar standard deviation and the yes-internet group has a higher mean final grade than the no-internet group.\n",
    "\n",
    "We will now create three histograms and one box and whisker plot to visualize the data and show its center, spread, and shape."
   ]
  },
  {
   "cell_type": "code",
   "execution_count": 8,
   "id": "civil-dubai",
   "metadata": {},
   "outputs": [],
   "source": [
    "# 4 plots of the relevant raw data\n",
    "\n",
    "# Plot 1: Final Grade Distribution of Students Without Internet Access\n",
    "plot_no_internet <- data  %>% \n",
    "    filter(internet == \"no\")  %>% \n",
    "    ggplot(aes(x = final_grade)) +\n",
    "    geom_histogram(binwidth = 2) + \n",
    "    geom_vline(xintercept = data_summary$mean_final_grade[1], color = \"red\") + \n",
    "    xlab(\"Final Grade\") + \n",
    "    ggtitle(\"Figure 1: Final Grade Distribution Students Without Internet Access\") +\n",
    "    theme(axis.title = element_text(size = 15)) +\n",
    "    theme(plot.title = element_text(size = 15))\n",
    "\n",
    "# Plot 2: Final Grade Distribution of Students With Internet Access\n",
    "plot_have_internet <- data  %>% \n",
    "    filter(internet == \"yes\")  %>% \n",
    "    ggplot(aes(x = final_grade)) +\n",
    "    geom_histogram(binwidth = 2) +\n",
    "    geom_vline(xintercept = data_summary$mean_final_grade[2], color = \"red\") + \n",
    "    xlab(\"Final Grade\") + \n",
    "    ggtitle(\"Figure 2: Final Grade Distribution Students With Internet Access\") +\n",
    "    theme(axis.title = element_text(size = 15)) +\n",
    "    theme(plot.title = element_text(size = 15))\n",
    "\n",
    "# Plot 3: Final Grade Distribution of Students With and Without Internet\n",
    "plot_both <- ggplot(data, aes(x = final_grade, fill = internet)) + \n",
    "    geom_histogram(binwidth = 2, alpha = 0.5, position = \"identity\", aes(y = ..density..)) + \n",
    "    xlab(\"Final Grade\") + \n",
    "    ggtitle(\"Figure 3: Final Grade Distribution Students With and Without Internet\") +\n",
    "    theme(axis.title = element_text(size = 15)) +\n",
    "    theme(plot.title = element_text(size = 15))\n",
    "\n",
    "# Plot 4: Boxplot with Final Grade Distribution Students With and Without Internet\n",
    "boxplot  <- ggplot(data = data, mapping = aes(x = internet, y = final_grade)) +\n",
    "    geom_boxplot() +\n",
    "    ggtitle(\"Figure 4: Boxplot of Final Grade Distribution Students With and Without Internet\") + \n",
    "    labs(x = \"Internet Access\", y = \"Final Grade\") +\n",
    "    theme(axis.title = element_text(size = 15)) +\n",
    "    theme(plot.title = element_text(size = 15))"
   ]
  },
  {
   "cell_type": "code",
   "execution_count": 26,
   "id": "advisory-watch",
   "metadata": {},
   "outputs": [
    {
     "data": {
      "image/png": "[encoded data removed]",
      "text/plain": [
       "plot without title"
      ]
     },
     "metadata": {
      "image/png": {
       "height": 420,
       "width": 840
      }
     },
     "output_type": "display_data"
    }
   ],
   "source": [
    "options(repr.plot.height = 7, repr.plot.width = 14)\n",
    "plot_grid(plot_no_internet, plot_have_internet, ncol = 2)"
   ]
  },
  {
   "cell_type": "markdown",
   "id": "hindu-allergy",
   "metadata": {},
   "source": [
    "The 2 histograms above each show a subset of our sample distribution, with each histogram having data filtered based on whether the student did or didn't have access to the internet at home. The vertical line represents their corresponding mean. In general, we can see a rough bell curve being formed; for both plots, there seems to be a spike of students who got a 0. We also can see a similar spread for both groups."
   ]
  },
  {
   "cell_type": "code",
   "execution_count": 27,
   "id": "plain-uncle",
   "metadata": {},
   "outputs": [
    {
     "data": {
      "image/png": "[encoded data removed]",
      "text/plain": [
       "plot without title"
      ]
     },
     "metadata": {
      "image/png": {
       "height": 420,
       "width": 840
      }
     },
     "output_type": "display_data"
    }
   ],
   "source": [
    "options(repr.plot.height = 7, repr.plot.width = 14)\n",
    "plot_grid(plot_both, boxplot, ncol = 2)"
   ]
  },
  {
   "cell_type": "markdown",
   "id": "quarterly-sheffield",
   "metadata": {},
   "source": [
    "In Figure 3, we observe that the data coloured blue (representing those with home internet access) seems to be shifted to the right (ie. towards a higher final grade) when compared to the light blue of those without internet access. \n",
    "\n",
    "Figure 4 tells a similar story to the previous histogram. It has the \"yes\" column (those with home internet access) having a higher median (and first and third quantiles) compared to the \"no\" column. "
   ]
  },
  {
   "cell_type": "markdown",
   "id": "opening-summit",
   "metadata": {
    "tags": []
   },
   "source": [
    "## **Methods**\n",
    "    \n",
    "Based on Figures 3 and 4, we can hypothesize that students with internet access perform better than those without. This analysis of the data is limiting because we only have access to sample distributions and we do not have a measure of confidence or reliability for the means. To extend our analysis, we can construct confidence intervals for the difference of means of both groups of students and conduct hypothesis tests. \n",
    "    \n",
    "#### **Difference of Means Hypothesis Test:**\n",
    "$\\mu_1:$ the mean grade of students *with* internet access <br>\n",
    "$\\mu_2:$ the mean grade of students *without* internet access\n",
    " \n",
    "##### **Null hypothesis:**\n",
    "$H_0: \\mu_1 - \\mu_2 = 0$\n",
    "##### **Alternative hypothesis:**\n",
    "$H_a: \\mu_1 - \\mu_2 > 0$\n",
    "##### **Significance Level:** 0.05\n",
    " \n",
    "<p> We expect that we will be able to reject our null hypothesis at a 5% significance level. In other words, we can show evidence that the mean grade of students without internet access is lower than the mean grade of students with internet access. \n"
   ]
  },
  {
   "cell_type": "markdown",
   "id": "55af54d0-3129-4502-acdd-4c0c630341a3",
   "metadata": {},
   "source": [
    "One of our hypothesis tests is a two-sample t-test. This test assumes that the variances of the two groups are the same. In order to gain confidence that this assumption is met, we will also conduct a test for the equality of variances of the two groups."
   ]
  },
  {
   "cell_type": "markdown",
   "id": "38ac1849-e140-454d-8d14-68040726bad0",
   "metadata": {},
   "source": [
    "#### **Equal Variances Hypothesis Test:**"
   ]
  },
  {
   "cell_type": "markdown",
   "id": "f11258e3-0c8b-424a-a427-724a1009a3bc",
   "metadata": {},
   "source": [
    "$\\sigma_1^2:$ the variance of grades of students *with* internet access <br>\n",
    "$\\sigma_2^2:$ the variance of grades of students *without* internet access\n",
    "\n",
    "##### **Null hypothesis:**\n",
    "$H_o: \\sigma_1^2 = \\sigma_2^2$\n",
    "##### **Alternative hypothesis:**\n",
    "$H_a: \\sigma_1^2 \\neq \\sigma_2^2$"
   ]
  },
  {
   "cell_type": "markdown",
   "id": "900c6c42-bd4a-4eca-a88d-fa50165c5e14",
   "metadata": {},
   "source": [
    "We expect that we will *not* be able to reject our null hypothesis at a 5% significance level. This wouldn't tell us that the variances in final grades between the two groups are equal. However, no evidence that the variances aren't equal can boost our confidence to some degree that the variances are similar."
   ]
  },
  {
   "cell_type": "markdown",
   "id": "compact-skating",
   "metadata": {},
   "source": [
    "## **Analysis**"
   ]
  },
  {
   "cell_type": "markdown",
   "id": "43f58500-bd35-4c91-a5d9-ec126d54e4cd",
   "metadata": {},
   "source": [
    "### Breakdown of Analysis:\n",
    "- Bootstrap Confidence Interval\n",
    "- Asymptotics Confidence Interval\n",
    "- Permute Hypothesis Test\n",
    "- T-Sample T-Test\n",
    "- F Test for Equal Variances"
   ]
  },
  {
   "cell_type": "markdown",
   "id": "dc008a7c-29a4-4dd1-b643-ceb38100dfac",
   "metadata": {},
   "source": [
    "### Bootstrapping Confidence Interval"
   ]
  },
  {
   "cell_type": "markdown",
   "id": "4821ec04-5af5-4c6d-beb7-81aa64a9930e",
   "metadata": {},
   "source": [
    "We are going to begin by creating a bootstrap sampling distribution for the difference in mean final grades between our two groups, those with internet access and those without. This distribution will help us create a plausible range of values for the actual difference in means, also known as a confidence interval."
   ]
  },
  {
   "cell_type": "markdown",
   "id": "727a581a-9235-4027-88c5-6edc5f303865",
   "metadata": {},
   "source": [
    "To create a bootstrap distribution, we first specify our response and explanatory variables which are final math grades and internet access, respectively. Then, we create 1000 bootstrap replicates of our sample and calculate their sample statistics. The bootstrap sample statistics we want to calculate are the bootstrap samples' mean final grade of those with internet access minus the mean final grade of those without internet access. "
   ]
  },
  {
   "cell_type": "markdown",
   "id": "621db4dc-4056-4808-a795-a9664dee4349",
   "metadata": {},
   "source": [
    "We will then visualize the bootstrap distribution."
   ]
  },
  {
   "cell_type": "code",
   "execution_count": 11,
   "id": "b93a0c7c-01e5-49d9-b8cb-64777aa31d75",
   "metadata": {},
   "outputs": [
    {
     "data": {
      "image/png": "[encoded data removed]",
      "text/plain": [
       "plot without title"
      ]
     },
     "metadata": {
      "image/png": {
       "height": 300,
       "width": 480
      }
     },
     "output_type": "display_data"
    }
   ],
   "source": [
    "# Setting the seed to ensure reproducibility\n",
    "set.seed(1)\n",
    "\n",
    "# Creating the bootstrap distribution \n",
    "bootstrap_distribution <- data %>% \n",
    "  specify(formula = final_grade ~ internet) %>%   \n",
    "  generate(reps = 1000, type = \"bootstrap\") %>% \n",
    "  calculate(stat = \"diff in means\", order = c(\"yes\", \"no\"))\n",
    "\n",
    "# Visualizing the bootstrap distribution\n",
    "boot_dist_plot <- visualize(bootstrap_distribution) +\n",
    "theme(text = element_text(size = 18)) +\n",
    "ggtitle(\"Figure 5: Bootstrap Sampling Distribution\") +\n",
    "xlab(\"Difference in Mean Final Grades\") +\n",
    "ylab(\"Count\")\n",
    "\n",
    "boot_dist_plot \n"
   ]
  },
  {
   "cell_type": "code",
   "execution_count": 12,
   "id": "786aaa42-6ec9-4471-983d-a556a7b4a8f2",
   "metadata": {},
   "outputs": [
    {
     "data": {
      "text/html": [
       "1.19944000800713"
      ],
      "text/latex": [
       "1.19944000800713"
      ],
      "text/markdown": [
       "1.19944000800713"
      ],
      "text/plain": [
       "[1] 1.19944"
      ]
     },
     "metadata": {},
     "output_type": "display_data"
    }
   ],
   "source": [
    "# Calculating the mean of the bootstrap distrubution\n",
    "mean(bootstrap_distribution$stat)"
   ]
  },
  {
   "cell_type": "markdown",
   "id": "35576280-577b-4db6-a548-07d4412424a9",
   "metadata": {},
   "source": [
    "Our bootstrap distribution in bell-shaped with a center around 1.2. If our estimated sampling distribution was a perfect image of the true sampling distribution, this would mean that on average people with internet access have a mean final grade about 1.2 points (out of 20) higher than people without internet access."
   ]
  },
  {
   "cell_type": "markdown",
   "id": "dd0d954a-e48c-4ad8-9865-3bdd21dcaa27",
   "metadata": {},
   "source": [
    "Now let's create a 95% confidence interval for our parameter, the difference of means between the two groups."
   ]
  },
  {
   "cell_type": "code",
   "execution_count": 1,
   "id": "b4f37224-0691-4352-a95c-5bc9cb2751d9",
   "metadata": {
    "tags": []
   },
   "outputs": [
    {
     "ename": "ERROR",
     "evalue": "Error in bootstrap_distribution %>% summarize(lower_ci = quantile(stat, : could not find function \"%>%\"\n",
     "output_type": "error",
     "traceback": [
      "Error in bootstrap_distribution %>% summarize(lower_ci = quantile(stat, : could not find function \"%>%\"\nTraceback:\n"
     ]
    }
   ],
   "source": [
    "# Creating Bootstrap Confidence Interval\n",
    "boot_ci <- bootstrap_distribution %>%\n",
    "summarize(lower_ci = quantile(stat, 0.025),\n",
    "          upper_ci = quantile(stat, 0.975))\n",
    "\"Table 5: Bootstrap Confidence Interval\"\n",
    "boot_ci"
   ]
  },
  {
   "cell_type": "markdown",
   "id": "57e91400-9d47-4689-bd7d-ce2aafc0a92d",
   "metadata": {},
   "source": [
    "Our 95% confidence interval is -0.05574639 to 2.400558. These values are the 2.5th and 97.5th percentiles, respectively, of our bootstrap distribution. We are 95% confident that the true difference in mean final grades lies within this interval. In other words, if we take many many samples and calculate their difference in mean final grades, we expect that those values will fall within this confidence interval 95% of the time."
   ]
  },
  {
   "cell_type": "markdown",
   "id": "0d2cbcd5-668b-45b1-89f6-485f2220bfa5",
   "metadata": {},
   "source": [
    "### Asymptotics Confidence Interval"
   ]
  },
  {
   "cell_type": "markdown",
   "id": "5f8bb468-42eb-4f4b-8094-2e93badbf16b",
   "metadata": {},
   "source": [
    "Now we will calculate the 95% confidence interval using asymptotics and Central Limit Theorem (CLT). There are a few assumptions that need to be met in order to effectively use CLT. These assumptions will be mentioned later in the Discussion."
   ]
  },
  {
   "cell_type": "markdown",
   "id": "4663b938-f697-479b-a349-f51e2a907ab0",
   "metadata": {},
   "source": [
    "One way to calculate the confidence interval is by using the `t.test()` function. However, we want to use formulas to get sense of what calculations are taking place within the `t.test()` function."
   ]
  },
  {
   "cell_type": "markdown",
   "id": "9919ed5d-e839-4dd4-92be-75a9b0f8034b",
   "metadata": {},
   "source": [
    "The formula we need to use to calculate the confidence interval is the following:\n",
    "\n",
    "$${\\text{lower bound} = \\bar{\\mu_1}-\\bar{\\mu_2} - 0} + qt(0.025, {df}) \\times {\\sqrt{\\frac{s_1^2}{n_1} + \\frac{s_2^2}{n_2}} }$$\n",
    "\n",
    "$${\\text{upper bound} = \\bar{\\mu_1}-\\bar{\\mu_2} - 0} + qt(0.975, {df}) \\times {\\sqrt{\\frac{s_1^2}{n_1} + \\frac{s_2^2}{n_2}} }$$\n",
    "\n",
    "where $$df = \\frac{\n",
    "    \\left(\\frac{s_1^2}{n_1}+\\frac{s_2^2}{n_2}\\right)^2\n",
    "}\n",
    "{\n",
    "\\frac{s_1^4}{n_1^2(n_1-1)}+\\frac{s_2^4}{n_2^2(n_2-1)}\n",
    "}\n",
    "$$\n",
    "<br>\n",
    "\n",
    "<center>$\\bar{\\mu_1}:$ the sample mean grade of students with internet access <br><center>\n",
    "<center>$\\bar{\\mu_2}:$ the sample mean grade of students without internet access <br><center>\n",
    "<center>$s_1^2:$ the sample variance of grades of students with internet access <br><center>\n",
    "<center>$s_2^2:$ the sample variance of grades of students without internet access <br><center>\n",
    "<center>$n_1:$ the number of students with internet access in our sample <br><center>\n",
    "<center>$n_2:$ the number of students without internet access in our sample <br><center>"
   ]
  },
  {
   "cell_type": "markdown",
   "id": "ea2681c7-9920-44a5-8476-ff46cb0e8013",
   "metadata": {},
   "source": [
    "In summary, we will be calculating the 2.5th and 97.5th quantiles of the appropriate t-distribution and multiplying it by our standard error. Then we will add and subtract this value from our point estimate to get the respective upper and lower bounds of our confidence interval."
   ]
  },
  {
   "cell_type": "markdown",
   "id": "df3873bc-de62-4168-9252-5b65f5bc0308",
   "metadata": {},
   "source": [
    "Let's start by calculating the mean  variance of the final grades of our two groups, yes internet and no internet. We will also count up the sample size of each group."
   ]
  },
  {
   "cell_type": "code",
   "execution_count": 14,
   "id": "427d5bd1-60b1-4128-a233-f0f599cd7e45",
   "metadata": {},
   "outputs": [
    {
     "data": {
      "text/html": [
       "'Table 6: Summary Statistics'"
      ],
      "text/latex": [
       "'Table 6: Summary Statistics'"
      ],
      "text/markdown": [
       "'Table 6: Summary Statistics'"
      ],
      "text/plain": [
       "[1] \"Table 6: Summary Statistics\""
      ]
     },
     "metadata": {},
     "output_type": "display_data"
    },
    {
     "data": {
      "text/html": [
       "<table class=\"dataframe\">\n",
       "<caption>A tibble: 2 × 4</caption>\n",
       "<thead>\n",
       "\t<tr><th></th><th scope=col>internet</th><th scope=col>sample_mean</th><th scope=col>sample_var</th><th scope=col>n</th></tr>\n",
       "\t<tr><th></th><th scope=col>&lt;chr&gt;</th><th scope=col>&lt;dbl&gt;</th><th scope=col>&lt;dbl&gt;</th><th scope=col>&lt;int&gt;</th></tr>\n",
       "</thead>\n",
       "<tbody>\n",
       "\t<tr><th scope=row>1</th><td>no </td><td> 9.409091</td><td>20.12238</td><td> 66</td></tr>\n",
       "\t<tr><th scope=row>2</th><td>yes</td><td>10.617021</td><td>20.98093</td><td>329</td></tr>\n",
       "</tbody>\n",
       "</table>\n"
      ],
      "text/latex": [
       "A tibble: 2 × 4\n",
       "\\begin{tabular}{r|llll}\n",
       "  & internet & sample\\_mean & sample\\_var & n\\\\\n",
       "  & <chr> & <dbl> & <dbl> & <int>\\\\\n",
       "\\hline\n",
       "\t1 & no  &  9.409091 & 20.12238 &  66\\\\\n",
       "\t2 & yes & 10.617021 & 20.98093 & 329\\\\\n",
       "\\end{tabular}\n"
      ],
      "text/markdown": [
       "\n",
       "A tibble: 2 × 4\n",
       "\n",
       "| <!--/--> | internet &lt;chr&gt; | sample_mean &lt;dbl&gt; | sample_var &lt;dbl&gt; | n &lt;int&gt; |\n",
       "|---|---|---|---|---|\n",
       "| 1 | no  |  9.409091 | 20.12238 |  66 |\n",
       "| 2 | yes | 10.617021 | 20.98093 | 329 |\n",
       "\n"
      ],
      "text/plain": [
       "  internet sample_mean sample_var n  \n",
       "1 no        9.409091   20.12238    66\n",
       "2 yes      10.617021   20.98093   329"
      ]
     },
     "metadata": {},
     "output_type": "display_data"
    }
   ],
   "source": [
    "# Creating a table of summary statistics\n",
    "\"Table 6: Summary Statistics\"\n",
    "internet_summary <- \n",
    "    data %>% \n",
    "    group_by(internet) %>% \n",
    "    summarise(sample_mean = mean(final_grade), \n",
    "              sample_var = var(final_grade), \n",
    "              n = n())\n",
    "internet_summary"
   ]
  },
  {
   "cell_type": "markdown",
   "id": "4e017cf7-2c8f-45b4-82aa-23d20ea9593f",
   "metadata": {},
   "source": [
    "Let's calculate our point estimate, standard error, and degrees of freedom. Then we can use our formula to calculate the confidence interval."
   ]
  },
  {
   "cell_type": "code",
   "execution_count": 15,
   "id": "e5335732-df83-4f2a-801a-93fd0fe64d26",
   "metadata": {},
   "outputs": [
    {
     "data": {
      "text/html": [
       "'Table 7: Asymptotics Confidence Interval'"
      ],
      "text/latex": [
       "'Table 7: Asymptotics Confidence Interval'"
      ],
      "text/markdown": [
       "'Table 7: Asymptotics Confidence Interval'"
      ],
      "text/plain": [
       "[1] \"Table 7: Asymptotics Confidence Interval\""
      ]
     },
     "metadata": {},
     "output_type": "display_data"
    },
    {
     "data": {
      "text/html": [
       "<table class=\"dataframe\">\n",
       "<caption>A tibble: 1 × 2</caption>\n",
       "<thead>\n",
       "\t<tr><th scope=col>lower_ci</th><th scope=col>upper_ci</th></tr>\n",
       "\t<tr><th scope=col>&lt;dbl&gt;</th><th scope=col>&lt;dbl&gt;</th></tr>\n",
       "</thead>\n",
       "<tbody>\n",
       "\t<tr><td>0.002415065</td><td>2.413446</td></tr>\n",
       "</tbody>\n",
       "</table>\n"
      ],
      "text/latex": [
       "A tibble: 1 × 2\n",
       "\\begin{tabular}{ll}\n",
       " lower\\_ci & upper\\_ci\\\\\n",
       " <dbl> & <dbl>\\\\\n",
       "\\hline\n",
       "\t 0.002415065 & 2.413446\\\\\n",
       "\\end{tabular}\n"
      ],
      "text/markdown": [
       "\n",
       "A tibble: 1 × 2\n",
       "\n",
       "| lower_ci &lt;dbl&gt; | upper_ci &lt;dbl&gt; |\n",
       "|---|---|\n",
       "| 0.002415065 | 2.413446 |\n",
       "\n"
      ],
      "text/plain": [
       "  lower_ci    upper_ci\n",
       "1 0.002415065 2.413446"
      ]
     },
     "metadata": {},
     "output_type": "display_data"
    }
   ],
   "source": [
    "# Calculating the difference in sample means\n",
    "diff <- internet_summary$sample_mean[2] - internet_summary$sample_mean[1]\n",
    "\n",
    "# Simplifying code\n",
    "var1<-internet_summary$sample_var[1]\n",
    "var2<-internet_summary$sample_var[2]\n",
    "n1 <- internet_summary$n[1]\n",
    "n2 <- internet_summary$n[2]\n",
    "\n",
    "# Calculating standard error\n",
    "se <- sqrt(var2/n2 + var1/n1)\n",
    "\n",
    "# Calculating degrees of freedom\n",
    "df <- (var2/n2 + var1/n1)^2/(var1^2/((n1^2)*(n1-1)) + var2^2/((n2^2)*(n2-1)))\n",
    "\n",
    "# Calculating theoretical confidence intercal\n",
    "theo_ci <- tibble(lower_ci = diff + qt(0.025, df)*se,\n",
    "             upper_ci = diff + qt(0.975, df)*se)\n",
    "\"Table 7: Asymptotics Confidence Interval\"\n",
    "theo_ci"
   ]
  },
  {
   "cell_type": "markdown",
   "id": "4ace4b1a-c040-430b-86b6-5833405e513d",
   "metadata": {},
   "source": [
    "Our asymptotic confidence interval ranges from 0.002415065 to 2.413446. As this confidence interval is also a 95% confidence interval, it has the same interpretation as our bootstrap confidence interval. We are 95% confident that the true difference in mean final grades lies within this interval.\n",
    "\n",
    "As a reminder, here is Table 5, the confidence interval we got using bootstrapping:"
   ]
  },
  {
   "cell_type": "code",
   "execution_count": 16,
   "id": "b2df7419-6296-4b32-bc07-017020eddb1d",
   "metadata": {},
   "outputs": [
    {
     "data": {
      "text/html": [
       "'Table 5: Bootstrap Confidence Interval'"
      ],
      "text/latex": [
       "'Table 5: Bootstrap Confidence Interval'"
      ],
      "text/markdown": [
       "'Table 5: Bootstrap Confidence Interval'"
      ],
      "text/plain": [
       "[1] \"Table 5: Bootstrap Confidence Interval\""
      ]
     },
     "metadata": {},
     "output_type": "display_data"
    },
    {
     "data": {
      "text/html": [
       "<table class=\"dataframe\">\n",
       "<caption>A tibble: 1 × 2</caption>\n",
       "<thead>\n",
       "\t<tr><th scope=col>lower_ci</th><th scope=col>upper_ci</th></tr>\n",
       "\t<tr><th scope=col>&lt;dbl&gt;</th><th scope=col>&lt;dbl&gt;</th></tr>\n",
       "</thead>\n",
       "<tbody>\n",
       "\t<tr><td>-0.05574639</td><td>2.400558</td></tr>\n",
       "</tbody>\n",
       "</table>\n"
      ],
      "text/latex": [
       "A tibble: 1 × 2\n",
       "\\begin{tabular}{ll}\n",
       " lower\\_ci & upper\\_ci\\\\\n",
       " <dbl> & <dbl>\\\\\n",
       "\\hline\n",
       "\t -0.05574639 & 2.400558\\\\\n",
       "\\end{tabular}\n"
      ],
      "text/markdown": [
       "\n",
       "A tibble: 1 × 2\n",
       "\n",
       "| lower_ci &lt;dbl&gt; | upper_ci &lt;dbl&gt; |\n",
       "|---|---|\n",
       "| -0.05574639 | 2.400558 |\n",
       "\n"
      ],
      "text/plain": [
       "  lower_ci    upper_ci\n",
       "1 -0.05574639 2.400558"
      ]
     },
     "metadata": {},
     "output_type": "display_data"
    }
   ],
   "source": [
    "\"Table 5: Bootstrap Confidence Interval\"\n",
    "boot_ci"
   ]
  },
  {
   "cell_type": "markdown",
   "id": "03d0398a-fa34-4504-9393-dfbf42937439",
   "metadata": {},
   "source": [
    "From our analysis above, we obtained a bootstrap confidence interval of -0.05574639 to 2.400558 and an asymptotic confidence interval of 0.002415065 to 2.413446. Both confidence intervals are quite similar due to the large sample size, however, the bootstrap CI is slightly wider than the asymptotic CI. Since we do not know the true population standard deviation, we are only using the sample standard deviation as an estimate. This results in an underestimate of uncertainties when using the asymptotic method, which leads to a narrower confidence interval.\n",
    "\n",
    "Therefore, we can conclude that using a bootstrap confidence interval is better for estimating a confidence interval and computing uncertainty. Additionally, using the asymptotic method requires more assumptions including a large sample size and independent samples, unless the population distribution is normal.\n",
    "\n"
   ]
  },
  {
   "cell_type": "markdown",
   "id": "8b9613b6-e7e2-46cf-b748-423b1df54e90",
   "metadata": {},
   "source": [
    "### Permute Hypothesis Test"
   ]
  },
  {
   "cell_type": "markdown",
   "id": "34a228a4-4599-4dc1-8ba4-7cb525332a4c",
   "metadata": {},
   "source": [
    "Now we will conduct a permute hypothesis test at the 5% significance level. "
   ]
  },
  {
   "cell_type": "markdown",
   "id": "33fa48f3-c039-4f4d-9241-3ae096611ba4",
   "metadata": {},
   "source": [
    "As a reminder, our null and alternative hypotheses are the following:"
   ]
  },
  {
   "cell_type": "markdown",
   "id": "aabf3a25-317d-4b5c-94e6-5cdb610400ab",
   "metadata": {},
   "source": [
    "$m_1:$ the mean grade of students *with* internet access <br>\n",
    "$m_2:$ the mean grade of students *without* internet access\n",
    "\n",
    "##### **Null hypothesis:**\n",
    "$H_o: m_1 - m_2 = 0$\n",
    "##### **Alternative hypothesis:**\n",
    "$H_a: m_1 - m_2 > 0$"
   ]
  },
  {
   "cell_type": "markdown",
   "id": "4fe21035-f89d-4803-b4cd-155844aafb55",
   "metadata": {},
   "source": [
    "The code below is quite similar to the one we used to create the bootstrap distribution. The difference is that now we introduce the null hypothesis and switch \"bootstrap\" to \"permute\" as permutations are more suitable for hypothesis testing."
   ]
  },
  {
   "cell_type": "code",
   "execution_count": 17,
   "id": "8d53d1fe-5bff-42ac-8496-e1676547c780",
   "metadata": {},
   "outputs": [
    {
     "data": {
      "image/png": "[encoded data removed]",
      "text/plain": [
       "plot without title"
      ]
     },
     "metadata": {
      "image/png": {
       "height": 300,
       "width": 480
      }
     },
     "output_type": "display_data"
    }
   ],
   "source": [
    "# Setting the seed to ensure reproducibility\n",
    "set.seed(1)\n",
    "\n",
    "# Creating the null distribution with 1000 replications\n",
    "null_distribution <- data %>% \n",
    "  specify(formula = final_grade ~ internet) %>%   \n",
    "  hypothesize(null = \"independence\") %>%\n",
    "  generate(reps = 1000, type = \"permute\") %>% \n",
    "  calculate(stat = \"diff in means\", order = c(\"yes\", \"no\"))\n",
    "\n",
    "# Visualizing the null distribution\n",
    "null_plot <- visualize(null_distribution)  +\n",
    "theme(text = element_text(size = 18)) +\n",
    "ggtitle(\"Figure 6: Null Distribution\") +\n",
    "xlab(\"Difference in Mean Final Grades\") +\n",
    "ylab(\"Count\")\n",
    "\n",
    "null_plot "
   ]
  },
  {
   "cell_type": "markdown",
   "id": "9d2fdc4d-ecef-4bcd-a888-ffff992b0fa7",
   "metadata": {},
   "source": [
    "We notice that unlike our bootstrap distribution, our null distribution is centered on 0."
   ]
  },
  {
   "cell_type": "markdown",
   "id": "3c0649f1-4c5d-4f27-9104-4b6416336a29",
   "metadata": {},
   "source": [
    "We should calculate our point estimate. Our point estimate is the mean final grade of those with internet access minus the mean final grade of those without internet access."
   ]
  },
  {
   "cell_type": "code",
   "execution_count": 18,
   "id": "4147e55b-c78d-4224-9476-296e9c968943",
   "metadata": {},
   "outputs": [
    {
     "data": {
      "text/html": [
       "1.20793036750484"
      ],
      "text/latex": [
       "1.20793036750484"
      ],
      "text/markdown": [
       "1.20793036750484"
      ],
      "text/plain": [
       "[1] 1.20793"
      ]
     },
     "metadata": {},
     "output_type": "display_data"
    }
   ],
   "source": [
    "# Calculating point estimate\n",
    "obs_diff_mean <- data %>% \n",
    "  specify(final_grade ~ internet) %>% \n",
    "  calculate(stat = \"diff in means\", order = c(\"yes\", \"no\")) %>%\n",
    "  pull()\n",
    "obs_diff_mean"
   ]
  },
  {
   "cell_type": "markdown",
   "id": "857e3241-a3c1-425d-9a28-ef2abf370b5b",
   "metadata": {},
   "source": [
    "If our point estimate was equal to the true difference in means, we would say that on average people with internet access have a mean final grade about 1.208 points (out of 20) higher than people without internet access."
   ]
  },
  {
   "cell_type": "markdown",
   "id": "5ebb8090-c31e-4f20-be50-7f65768b7bb0",
   "metadata": {},
   "source": [
    "Now we will visualize our p-value."
   ]
  },
  {
   "cell_type": "code",
   "execution_count": 19,
   "id": "36a7161c-2262-4e39-b117-af92ba44b0d8",
   "metadata": {},
   "outputs": [
    {
     "data": {
      "image/png": "[encoded data removed]",
      "text/plain": [
       "plot without title"
      ]
     },
     "metadata": {
      "image/png": {
       "height": 300,
       "width": 480
      }
     },
     "output_type": "display_data"
    }
   ],
   "source": [
    "# Visualizing null distribution with p-value\n",
    "null_p_plot <- visualize(null_distribution)  +\n",
    "theme(text = element_text(size = 17)) +\n",
    "ggtitle(\"Figure 7: Null Distribution with Shaded P-Value\") +\n",
    "xlab(\"Difference in Mean Final Grades\") +\n",
    "ylab(\"Count\") +\n",
    "shade_p_value(obs_stat = obs_diff_mean, direction = \"right\")\n",
    "\n",
    "null_p_plot"
   ]
  },
  {
   "cell_type": "markdown",
   "id": "918e67dd-8d43-481f-8bd9-67b0af5b7cf0",
   "metadata": {},
   "source": [
    "The red line shows where our point estimate lies on the null distribution. The red shaded part visualizes our p-value. It shows the values equal to or more unlikely than our point estimate, assuming the null hypothesis is true."
   ]
  },
  {
   "cell_type": "markdown",
   "id": "d4f2c614-9785-44fb-bb36-c4b8cad6890d",
   "metadata": {},
   "source": [
    "And now we will calculate the p-value. We will use the \"right\" direction since we are testing whether those with internet access have a *greater* mean final grade than those who don't."
   ]
  },
  {
   "cell_type": "code",
   "execution_count": 20,
   "id": "84e5d800-3ac1-4f8c-9a99-23d8410ca478",
   "metadata": {},
   "outputs": [
    {
     "data": {
      "text/html": [
       "'Table 8: P-Value'"
      ],
      "text/latex": [
       "'Table 8: P-Value'"
      ],
      "text/markdown": [
       "'Table 8: P-Value'"
      ],
      "text/plain": [
       "[1] \"Table 8: P-Value\""
      ]
     },
     "metadata": {},
     "output_type": "display_data"
    },
    {
     "data": {
      "text/html": [
       "<table class=\"dataframe\">\n",
       "<caption>A tibble: 1 × 1</caption>\n",
       "<thead>\n",
       "\t<tr><th scope=col>p_value</th></tr>\n",
       "\t<tr><th scope=col>&lt;dbl&gt;</th></tr>\n",
       "</thead>\n",
       "<tbody>\n",
       "\t<tr><td>0.029</td></tr>\n",
       "</tbody>\n",
       "</table>\n"
      ],
      "text/latex": [
       "A tibble: 1 × 1\n",
       "\\begin{tabular}{l}\n",
       " p\\_value\\\\\n",
       " <dbl>\\\\\n",
       "\\hline\n",
       "\t 0.029\\\\\n",
       "\\end{tabular}\n"
      ],
      "text/markdown": [
       "\n",
       "A tibble: 1 × 1\n",
       "\n",
       "| p_value &lt;dbl&gt; |\n",
       "|---|\n",
       "| 0.029 |\n",
       "\n"
      ],
      "text/plain": [
       "  p_value\n",
       "1 0.029  "
      ]
     },
     "metadata": {},
     "output_type": "display_data"
    }
   ],
   "source": [
    "# Calculating p-value\n",
    "p_value <- null_distribution %>%\n",
    "get_p_value(obs_stat = obs_diff_mean, direction = \"right\")\n",
    "\"Table 8: P-Value\"\n",
    "p_value"
   ]
  },
  {
   "cell_type": "markdown",
   "id": "da05d059-9025-4aed-ad2c-eeb805522e82",
   "metadata": {},
   "source": [
    "Our p-value from the bootstrap hypothesis test is 0.029. This is below our significance level of 0.05. Therefore, we reject our null hypothesis that there is no difference between mean final math grades for those with internet access and those without internet access. We conclude that there is evidence suggesting those with access to internet at home have a higher mean final math grade than those who don't."
   ]
  },
  {
   "cell_type": "markdown",
   "id": "9a516ee3-8a90-405e-aeba-3216b039cacf",
   "metadata": {
    "tags": []
   },
   "source": [
    "### Two-Sample T-Test"
   ]
  },
  {
   "cell_type": "markdown",
   "id": "4b1bcf19-6b35-4a1a-bfb7-c9a4d368448d",
   "metadata": {},
   "source": [
    "Now, we will conduct a two-sample t-test. Here is another reminder of our null and alternative hypotheses:"
   ]
  },
  {
   "cell_type": "markdown",
   "id": "9935d04e-30b2-4944-85f4-9d00a66b937e",
   "metadata": {},
   "source": [
    "$m_1:$ the mean grade of students *with* internet access <br>\n",
    "$m_2:$ the mean grade of students *without* internet access\n",
    "\n",
    "##### **Null hypothesis:**\n",
    "$H_o: m_1 - m_2 = 0$\n",
    "##### **Alternative hypothesis:**\n",
    "$H_a: m_1 - m_2 > 0$"
   ]
  },
  {
   "cell_type": "code",
   "execution_count": 21,
   "id": "5615c488-7ad1-4805-bbbc-e20aa40c940c",
   "metadata": {},
   "outputs": [
    {
     "data": {
      "text/html": [
       "'Table 9: Two Sample T-Test'"
      ],
      "text/latex": [
       "'Table 9: Two Sample T-Test'"
      ],
      "text/markdown": [
       "'Table 9: Two Sample T-Test'"
      ],
      "text/plain": [
       "[1] \"Table 9: Two Sample T-Test\""
      ]
     },
     "metadata": {},
     "output_type": "display_data"
    },
    {
     "data": {
      "text/html": [
       "<table class=\"dataframe\">\n",
       "<caption>A tibble: 1 × 10</caption>\n",
       "<thead>\n",
       "\t<tr><th scope=col>estimate</th><th scope=col>estimate1</th><th scope=col>estimate2</th><th scope=col>statistic</th><th scope=col>p.value</th><th scope=col>parameter</th><th scope=col>conf.low</th><th scope=col>conf.high</th><th scope=col>method</th><th scope=col>alternative</th></tr>\n",
       "\t<tr><th scope=col>&lt;dbl&gt;</th><th scope=col>&lt;dbl&gt;</th><th scope=col>&lt;dbl&gt;</th><th scope=col>&lt;dbl&gt;</th><th scope=col>&lt;dbl&gt;</th><th scope=col>&lt;dbl&gt;</th><th scope=col>&lt;dbl&gt;</th><th scope=col>&lt;dbl&gt;</th><th scope=col>&lt;chr&gt;</th><th scope=col>&lt;chr&gt;</th></tr>\n",
       "</thead>\n",
       "<tbody>\n",
       "\t<tr><td>1.20793</td><td>10.61702</td><td>9.409091</td><td>1.989441</td><td>0.02477601</td><td>94.21865</td><td>0.1993059</td><td>Inf</td><td>Welch Two Sample t-test</td><td>greater</td></tr>\n",
       "</tbody>\n",
       "</table>\n"
      ],
      "text/latex": [
       "A tibble: 1 × 10\n",
       "\\begin{tabular}{llllllllll}\n",
       " estimate & estimate1 & estimate2 & statistic & p.value & parameter & conf.low & conf.high & method & alternative\\\\\n",
       " <dbl> & <dbl> & <dbl> & <dbl> & <dbl> & <dbl> & <dbl> & <dbl> & <chr> & <chr>\\\\\n",
       "\\hline\n",
       "\t 1.20793 & 10.61702 & 9.409091 & 1.989441 & 0.02477601 & 94.21865 & 0.1993059 & Inf & Welch Two Sample t-test & greater\\\\\n",
       "\\end{tabular}\n"
      ],
      "text/markdown": [
       "\n",
       "A tibble: 1 × 10\n",
       "\n",
       "| estimate &lt;dbl&gt; | estimate1 &lt;dbl&gt; | estimate2 &lt;dbl&gt; | statistic &lt;dbl&gt; | p.value &lt;dbl&gt; | parameter &lt;dbl&gt; | conf.low &lt;dbl&gt; | conf.high &lt;dbl&gt; | method &lt;chr&gt; | alternative &lt;chr&gt; |\n",
       "|---|---|---|---|---|---|---|---|---|---|\n",
       "| 1.20793 | 10.61702 | 9.409091 | 1.989441 | 0.02477601 | 94.21865 | 0.1993059 | Inf | Welch Two Sample t-test | greater |\n",
       "\n"
      ],
      "text/plain": [
       "  estimate estimate1 estimate2 statistic p.value    parameter conf.low \n",
       "1 1.20793  10.61702  9.409091  1.989441  0.02477601 94.21865  0.1993059\n",
       "  conf.high method                  alternative\n",
       "1 Inf       Welch Two Sample t-test greater    "
      ]
     },
     "metadata": {},
     "output_type": "display_data"
    }
   ],
   "source": [
    "#Conducting t-test\n",
    "model <- t.test(data %>% filter(internet == \"yes\") %>% pull(final_grade),\n",
    "                data %>% filter(internet == \"no\") %>% pull(final_grade),\n",
    "                alternative = \"greater\")\n",
    "\"Table 9: Two Sample T-Test\"\n",
    "tidy(model)"
   ]
  },
  {
   "cell_type": "markdown",
   "id": "e9fe489d-75c8-4272-8f53-8d7ab7165560",
   "metadata": {},
   "source": [
    "First, we note that the confidence interval given is 0.1993059 to infinity which is different than the interval we calculated in the \"Asymptotics Confidence Interval\" section. This is because this confidence interval uses the 5th and 100th percentiles of the estimated sampling distribution to calculate the confidence interval, while we used the 2.5th and 97.5th percentiles. Both methods are valid for construction of a 95% confidence interval."
   ]
  },
  {
   "cell_type": "markdown",
   "id": "25b2d86e-a868-4399-9bcf-c037e52f4ccd",
   "metadata": {},
   "source": [
    "Our p-value from the two-sample t-test is 0.025. This p-value is below our significance level of 0.05. Therefore, again, we reject our null hypothesis that there is no difference between mean final math grades. We conclude that there is evidence suggesting those with access to internet at home have a higher mean final math grade than those who don't."
   ]
  },
  {
   "cell_type": "markdown",
   "id": "bef19f5d-628e-4f57-b2bb-f142fd1e004b",
   "metadata": {},
   "source": [
    "Based on the 2 hypothesis tests that we just performed, both tests rejected the null hypothesis at 5% significance level. In other words, both tests concluded that those with access to internet at home have a higher mean final math grade than those who don’t. \n",
    "\n",
    "However, the permute test resulted in a p-value of 0.029, whereas the two-sample t-test resulted in a smaller p-value of 0.02477601. This means that the two-sample t-test is able to give a stronger evidence that we should reject the null hypothesis. \n"
   ]
  },
  {
   "cell_type": "markdown",
   "id": "8b656a53-31a8-4d88-9db7-50750d27e6e8",
   "metadata": {
    "tags": []
   },
   "source": [
    "### F Test for Equal Variances"
   ]
  },
  {
   "cell_type": "markdown",
   "id": "8a1247cb-042c-4033-9b91-941cb5b32c42",
   "metadata": {},
   "source": [
    "The two sample t-test we used assumes that the variances of our two groups are equal. We can see from the Figure 4 that the variances seem similar. "
   ]
  },
  {
   "cell_type": "code",
   "execution_count": 22,
   "id": "c39d7cef-b343-44bb-861b-3bbc81290d94",
   "metadata": {},
   "outputs": [
    {
     "data": {
      "image/png": "[encoded data removed]",
      "text/plain": [
       "plot without title"
      ]
     },
     "metadata": {
      "image/png": {
       "height": 300,
       "width": 480
      }
     },
     "output_type": "display_data"
    }
   ],
   "source": [
    "boxplot"
   ]
  },
  {
   "cell_type": "markdown",
   "id": "151264e3-8142-4368-a6af-452306d2fdf3",
   "metadata": {},
   "source": [
    "Let's gain some additional confidence that the t-test variance assumption is met by doing an F test for equal variances with a 5% significance level. "
   ]
  },
  {
   "cell_type": "markdown",
   "id": "7ffcc31b-61d6-4f13-9b87-3bc7378dcb7c",
   "metadata": {},
   "source": [
    "Here are our null and alternative hypotheses:"
   ]
  },
  {
   "cell_type": "markdown",
   "id": "2d9e84da-131e-4396-b588-5449ddc5b9fa",
   "metadata": {
    "tags": []
   },
   "source": [
    "##### **Null hypothesis:**\n",
    "$H_o: \\sigma_1^2 = \\sigma_2^2$\n",
    "##### **Alternative hypothesis:**\n",
    "$H_a: \\sigma_1^2 \\neq \\sigma_2^2$"
   ]
  },
  {
   "cell_type": "markdown",
   "id": "f463b1e9-fd29-4cf1-9a4a-6c066e9de4aa",
   "metadata": {},
   "source": [
    "Now we will conduct the F test for equal variances."
   ]
  },
  {
   "cell_type": "code",
   "execution_count": 23,
   "id": "01f14fb3-fad0-4290-9863-5d25912f327e",
   "metadata": {},
   "outputs": [
    {
     "data": {
      "text/html": [
       "'Table 10: F Test for Equal Variances'"
      ],
      "text/latex": [
       "'Table 10: F Test for Equal Variances'"
      ],
      "text/markdown": [
       "'Table 10: F Test for Equal Variances'"
      ],
      "text/plain": [
       "[1] \"Table 10: F Test for Equal Variances\""
      ]
     },
     "metadata": {},
     "output_type": "display_data"
    },
    {
     "name": "stderr",
     "output_type": "stream",
     "text": [
      "Multiple parameters; naming those columns num.df, den.df\n",
      "\n"
     ]
    },
    {
     "data": {
      "text/html": [
       "<table class=\"dataframe\">\n",
       "<caption>A tibble: 1 × 9</caption>\n",
       "<thead>\n",
       "\t<tr><th scope=col>estimate</th><th scope=col>num.df</th><th scope=col>den.df</th><th scope=col>statistic</th><th scope=col>p.value</th><th scope=col>conf.low</th><th scope=col>conf.high</th><th scope=col>method</th><th scope=col>alternative</th></tr>\n",
       "\t<tr><th scope=col>&lt;dbl&gt;</th><th scope=col>&lt;int&gt;</th><th scope=col>&lt;int&gt;</th><th scope=col>&lt;dbl&gt;</th><th scope=col>&lt;dbl&gt;</th><th scope=col>&lt;dbl&gt;</th><th scope=col>&lt;dbl&gt;</th><th scope=col>&lt;chr&gt;</th><th scope=col>&lt;chr&gt;</th></tr>\n",
       "</thead>\n",
       "<tbody>\n",
       "\t<tr><td>0.9590794</td><td>65</td><td>328</td><td>0.9590794</td><td>0.8623875</td><td>0.6726658</td><td>1.435354</td><td>F test to compare two variances</td><td>two.sided</td></tr>\n",
       "</tbody>\n",
       "</table>\n"
      ],
      "text/latex": [
       "A tibble: 1 × 9\n",
       "\\begin{tabular}{lllllllll}\n",
       " estimate & num.df & den.df & statistic & p.value & conf.low & conf.high & method & alternative\\\\\n",
       " <dbl> & <int> & <int> & <dbl> & <dbl> & <dbl> & <dbl> & <chr> & <chr>\\\\\n",
       "\\hline\n",
       "\t 0.9590794 & 65 & 328 & 0.9590794 & 0.8623875 & 0.6726658 & 1.435354 & F test to compare two variances & two.sided\\\\\n",
       "\\end{tabular}\n"
      ],
      "text/markdown": [
       "\n",
       "A tibble: 1 × 9\n",
       "\n",
       "| estimate &lt;dbl&gt; | num.df &lt;int&gt; | den.df &lt;int&gt; | statistic &lt;dbl&gt; | p.value &lt;dbl&gt; | conf.low &lt;dbl&gt; | conf.high &lt;dbl&gt; | method &lt;chr&gt; | alternative &lt;chr&gt; |\n",
       "|---|---|---|---|---|---|---|---|---|\n",
       "| 0.9590794 | 65 | 328 | 0.9590794 | 0.8623875 | 0.6726658 | 1.435354 | F test to compare two variances | two.sided |\n",
       "\n"
      ],
      "text/plain": [
       "  estimate  num.df den.df statistic p.value   conf.low  conf.high\n",
       "1 0.9590794 65     328    0.9590794 0.8623875 0.6726658 1.435354 \n",
       "  method                          alternative\n",
       "1 F test to compare two variances two.sided  "
      ]
     },
     "metadata": {},
     "output_type": "display_data"
    }
   ],
   "source": [
    "#Conducting F-test\n",
    "\"Table 10: F Test for Equal Variances\"\n",
    "tidy(var.test(final_grade ~ internet, data = data, alternative = \"two.sided\"))"
   ]
  },
  {
   "cell_type": "markdown",
   "id": "e939357e-9fa4-4bff-855f-8835d07420fc",
   "metadata": {},
   "source": [
    "Our p-value is 0.86 which is much larger than our significance level. Therefore, at a 5% significance level we do not reject the null hypothesis that the two variances are equal. We conclude that there is evidence suggesting the variance of final grades are not very different for those with access to internet at home and those without access."
   ]
  },
  {
   "cell_type": "markdown",
   "id": "37e35333-794b-42c2-8235-94965073c4b9",
   "metadata": {},
   "source": [
    "## Discussion"
   ]
  },
  {
   "cell_type": "markdown",
   "id": "5bf40e71-dc8e-4765-80d8-e8391077c0ea",
   "metadata": {},
   "source": [
    "Based on knowledge from previous studies, we expect that the mean grade of students without internet access is lower than the mean grade of students with internet access. After performing our hypothesis tests, we were able to show that the results are what we expected. Regardless of the method chosen (bootstrap vs. t-test), we will **reject the null hypothesis**. Because of this, we might be at risk of committing a Type 1 error; that is, the incorrect rejection of a correct null hypothesis. \n",
    "\n",
    "Overall, this report confirmed what we had hypothesized. The only thing that we did not expect was the similarity of the distribution of the 2 groups. In Figure 3, we can see that the mean final grade of students with and without internet access are roughly the same, and the shape of the distribution is also very similar. \n",
    "  \n",
    "These findings could inform education and government decision-makers as to the best ways to support their students and improve overall scores. Specifically, governments should invest in providing students with internet access outside of school hours and at home. With equal internet access for students, educators can embrace it as a tool for learning and, ideally, improve test scores further. \n",
    "\n",
    "There are limitations to this study. Firstly, selection bias is very likely to be present here. Instead of the internet having a causal relationship with the final grade, we could instead be seeing second-order impacts of confounding variables. A potential confounding variable is household income, which logically is correlated with internet access (those with higher income are more likely to have internet at home), and can impact in other ways too. For instance, a student from a lower-income house may have to work long hours, and therefore have less time to study for class. The data used here is also not representative of all students worldwide, or even of students in Portugal. The dataset is from just 2 Portuguese schools, meaning that we might not be able to generalize our findings to all students across different schools and locations. Differences in teaching style, testing methods, and other variables can differentiate the Portuguese school system from others, leading to different importance in household internet. \n",
    "\n",
    "\n",
    "Because this research looks at how technology enables education to continue at home, we can ask more questions about these environments and how they impact student performance. For example, we might ask if students with their device(s) perform better than students who share devices with those in their families. Further, do students with newer models of devices (e.g. made in the last 5 years) perform better than students with older models. Finally, we might ask if students whose guardians have high technology and internet literacy perform better than students whose guardians do not. Like our research, these findings might inform government education spending and investments in technology for students.\n",
    "\n",
    "\n",
    "\n"
   ]
  },
  {
   "cell_type": "markdown",
   "id": "1b307a60-2af2-4083-bf07-627d274dbd14",
   "metadata": {},
   "source": [
    "## References"
   ]
  },
  {
   "cell_type": "markdown",
   "id": "7aee531b-be47-45be-bf63-b709c9b926f5",
   "metadata": {},
   "source": [
    "Austin, W., & Totaro, M. W. (2011). High school students academic performance and internet usage. *Journal of Economics and Economic Education Research, 12*(1), 41–54.\n"
   ]
  },
  {
   "cell_type": "markdown",
   "id": "b42e3a6f-d510-4c90-8c0f-c6b5da5e14d7",
   "metadata": {
    "tags": []
   },
   "source": [
    "Cortez, P., & Silva, A. M. G. (2008). Using Data Mining to Predict Secondary School Student Performance. *In A. Brito, & J. Teixeira (Eds.), Proceedings of 5th Annual Future Business Technology Conference, Porto*, 5-12.\n",
    "\n"
   ]
  },
  {
   "cell_type": "markdown",
   "id": "41c93751-dfe1-4090-aa6d-36bce354ae5e",
   "metadata": {},
   "source": [
    "Sampath Kumar, B. T., & Manjunath, G. (2013). Internet use and its impact on the academic performance of university teachers and researchers: A comparative study. *Emerald Journal of Higher Education, Skills and Work-Based Learning, 3*(3), 219–238."
   ]
  }
 ],
 "metadata": {
  "kernelspec": {
   "display_name": "R",
   "language": "R",
   "name": "ir"
  },
  "language_info": {
   "codemirror_mode": "r",
   "file_extension": ".r",
   "mimetype": "text/x-r-source",
   "name": "R",
   "pygments_lexer": "r",
   "version": "4.0.3"
  }
 },
 "nbformat": 4,
 "nbformat_minor": 5
}
